{
  "nbformat": 4,
  "nbformat_minor": 0,
  "metadata": {
    "colab": {
      "provenance": []
    },
    "kernelspec": {
      "name": "python3",
      "display_name": "Python 3"
    },
    "language_info": {
      "name": "python"
    }
  },
  "cells": [
    {
      "cell_type": "code",
      "execution_count": 1,
      "metadata": {
        "id": "BnaCCSWXkKKZ"
      },
      "outputs": [],
      "source": [
        "import nltk\n",
        "import numpy as np\n",
        "import pandas as pd\n",
        "np.set_printoptions(linewidth=120)\n",
        "import urllib.request\n",
        "import gzip\n",
        "import json\n",
        "import re\n",
        "from collections import defaultdict\n",
        "from numpy import array\n",
        "from scipy.linalg import svd\n",
        "from numpy import diag\n",
        "from numpy import dot"
      ]
    },
    {
      "cell_type": "code",
      "source": [
        "url = \"https://snap.stanford.edu/data/amazon/productGraph/categoryFiles/reviews_Movies_and_TV.json.gz\"\n",
        "filename = \"reviews_Movies_and_TV.json.gz\""
      ],
      "metadata": {
        "id": "MM6Hs6w5kSW4"
      },
      "execution_count": 2,
      "outputs": []
    },
    {
      "cell_type": "code",
      "source": [
        "from google.colab import drive\n",
        "drive.mount('/content/drive')\n",
        "\n",
        "%cd /content/drive/My Drive/"
      ],
      "metadata": {
        "colab": {
          "base_uri": "https://localhost:8080/"
        },
        "id": "2t7WkSnQkV29",
        "outputId": "ba70397e-55a1-46fe-d03a-c6ec4b113f3a"
      },
      "execution_count": 3,
      "outputs": [
        {
          "output_type": "stream",
          "name": "stdout",
          "text": [
            "Mounted at /content/drive\n",
            "/content/drive/My Drive\n"
          ]
        }
      ]
    },
    {
      "cell_type": "code",
      "source": [
        "def parse(path):\n",
        "    with open(path, 'r') as f:\n",
        "        for line in f:\n",
        "            yield json.loads(line)\n",
        "\n",
        "# Initialize an empty list to store the sentences\n",
        "para = []\n",
        "data_path = 'data'"
      ],
      "metadata": {
        "id": "uRkESwQokauP"
      },
      "execution_count": 4,
      "outputs": []
    },
    {
      "cell_type": "code",
      "source": [
        "# Loop through the JSON data and extract the sentences\n",
        "# for review in parse(data_path):\n",
        "#     para.append(review['reviewText'])\n",
        "\n",
        "num_reviews_to_read =  10000\n",
        "\n",
        "for i, review in enumerate(parse(data_path)):\n",
        "    para.append(review['reviewText'])\n",
        "    \n",
        "    # Stop reading the dataset once the desired number of reviews have been processed\n",
        "    if i >= num_reviews_to_read - 1:\n",
        "        break"
      ],
      "metadata": {
        "id": "9s5xt_3JkfeX"
      },
      "execution_count": 5,
      "outputs": []
    },
    {
      "cell_type": "code",
      "source": [
        "pattern = re.compile(r'(?<![A-Z])[.!?]\\s+')\n",
        "\n",
        "# iterate over each paragraph and split it into sentences\n",
        "sentences = []\n",
        "for paragraph in para:\n",
        "    sentences.extend(re.split(pattern, paragraph))\n",
        "\n",
        "sentences = [re.sub(r'[^\\w\\s]+', '', sentence.strip().lower()) for sentence in sentences]"
      ],
      "metadata": {
        "id": "9KHVqDVhmJCN"
      },
      "execution_count": 6,
      "outputs": []
    },
    {
      "cell_type": "code",
      "source": [
        "word_freq = defaultdict(int)\n",
        "for sent in sentences:\n",
        "    sent = re.sub(r'[^\\w\\s\\.\\-]+', '', sent)\n",
        "    sent = re.sub('([;:.,!?()])', r' \\1 ', sent)\n",
        "    words = sent.strip().split()  # split the sentence into a list of words\n",
        "    for word in words:\n",
        "        word_freq[word] += 1"
      ],
      "metadata": {
        "id": "v7rW68rNmWIV"
      },
      "execution_count": 7,
      "outputs": []
    },
    {
      "cell_type": "code",
      "source": [
        "# Create vocabulary list and replace rare words with '<UNK>'\n",
        "vocab = ['<UNK>']\n",
        "rare_words = []\n",
        "new_sentences = []\n",
        "word_counts = {}\n",
        "\n",
        "\n",
        "for sent in sentences:\n",
        "    words = sent.strip().split()  # split the sentence into a list of words\n",
        "    new_sent = []\n",
        "    for word in words:\n",
        "        # remove non-alphanumeric characters from each word\n",
        "        word = re.sub(r'\\W+', '', word)\n",
        "        if word_freq[word.lower()] < 5:\n",
        "            new_sent.append('<UNK>')\n",
        "            rare_words.append(word.lower())\n",
        "        else:\n",
        "            new_sent.append(word)\n",
        "    new_sentences.append(' '.join(new_sent))\n",
        "\n",
        "# Add counts of rare words to <UNK>\n",
        "for word in rare_words:\n",
        "    if word in word_freq:\n",
        "        if '<UNK>' not in word_counts:\n",
        "            word_counts['<UNK>'] = 0\n",
        "        word_counts['<UNK>'] += word_freq[word.lower()]\n",
        "        del word_freq[word.lower()]\n",
        "        \n",
        "# Add remaining words to vocab\n",
        "# for word in word_freq.keys():\n",
        "#     if word_freq[word.lower()] >= 5:\n",
        "#         vocab.append(word.lower())\n",
        "#         word_counts[word.lower()] = word_freq[word.lower()]\n",
        "#     else:\n",
        "#         word_counts['<UNK>'] += word_freq[word.lower()]\n",
        "        \n",
        "# # Sort vocab by frequency\n",
        "# vocab = sorted(vocab, key=lambda x: word_counts[x], reverse=True)\n",
        "    \n",
        "# print(\"Vocabulary size:\", len(vocab))\n"
      ],
      "metadata": {
        "id": "zfkPY5tOmY7x"
      },
      "execution_count": 8,
      "outputs": []
    },
    {
      "cell_type": "code",
      "source": [
        "unique_vocab = set()\n",
        "\n",
        "for sentence in new_sentences:\n",
        "    words = sentence.split()\n",
        "    unique_vocab.update(words)\n",
        "\n",
        "unique_vocab = list(unique_vocab)\n",
        "\n",
        "vocabulary = sorted(list(vocab))\n",
        "print(len(unique_vocab))"
      ],
      "metadata": {
        "colab": {
          "base_uri": "https://localhost:8080/"
        },
        "id": "gTryRLIyh_JO",
        "outputId": "8ddf3444-d07b-4d60-871e-b37451172fbd"
      },
      "execution_count": 9,
      "outputs": [
        {
          "output_type": "stream",
          "name": "stdout",
          "text": [
            "9944\n"
          ]
        }
      ]
    },
    {
      "cell_type": "code",
      "source": [
        "# numWords = [len(sentence.split()) for sentence in sentences]\n",
        "# min_win = min(numWords)\n",
        "# print(min_win)\n",
        "\n",
        "# hardcoding window size as smallest possible window size for now\n",
        "# this can always be changed\n",
        "# window_size = min_win\n",
        "window_size = 1"
      ],
      "metadata": {
        "id": "b7OrNFIwmbBA"
      },
      "execution_count": 10,
      "outputs": []
    },
    {
      "cell_type": "code",
      "source": [
        "# getting list of words that co occur in window_size\n",
        "co_words = []\n",
        "\n",
        "# reversed list of co occur words\n",
        "re_co_words = []\n",
        "\n",
        "# loop over each sent, split it into list of words, generate co occur pairs\n",
        "# l loop executes only if the index l is <= to length of the sentence minus one\n",
        "# This ensures that we don't go out of bounds when generating pairs of words\n",
        "for sentence in new_sentences:\n",
        "    words = sentence.split()\n",
        "    for i in range(len(words)):\n",
        "        # print(len(words))\n",
        "        for j in range(1, window_size+1):\n",
        "            if i+j < len(words):\n",
        "                co_words.append([words[i], words[i+j]])\n",
        "                re_co_words.append([words[i+j], words[i]]) # fix: add to re_co_words instead of co_words\n",
        "co_words.extend(re_co_words)\n"
      ],
      "metadata": {
        "id": "2JDLfsJvmyar"
      },
      "execution_count": 11,
      "outputs": []
    },
    {
      "cell_type": "code",
      "source": [
        "a=np.zeros((len(unique_vocab),len(unique_vocab)))\n",
        "df=pd.DataFrame(a,index=unique_vocab,columns=unique_vocab)"
      ],
      "metadata": {
        "id": "asl790L9m0od"
      },
      "execution_count": 12,
      "outputs": []
    },
    {
      "cell_type": "code",
      "source": [
        "for i in co_words:\n",
        "    df.at[i[0],i[1]]+=1\n",
        "#Co-occurence matrix\n",
        "# df"
      ],
      "metadata": {
        "id": "OVf9H-b-m4fB"
      },
      "execution_count": 13,
      "outputs": []
    },
    {
      "cell_type": "code",
      "source": [
        "print(df.iloc[:10, :10])"
      ],
      "metadata": {
        "colab": {
          "base_uri": "https://localhost:8080/"
        },
        "id": "WDKbeVgkhepK",
        "outputId": "e3428594-e8c8-46a1-e772-a94271857067"
      },
      "execution_count": 14,
      "outputs": [
        {
          "output_type": "stream",
          "name": "stdout",
          "text": [
            "               quot  warsquot  inconsistent  ensues  tyrant  atoned  \\\n",
            "quot            0.0       0.0           0.0     0.0     0.0     0.0   \n",
            "warsquot        0.0       0.0           0.0     0.0     0.0     0.0   \n",
            "inconsistent    0.0       0.0           0.0     0.0     0.0     0.0   \n",
            "ensues          0.0       0.0           0.0     0.0     0.0     0.0   \n",
            "tyrant          0.0       0.0           0.0     0.0     0.0     0.0   \n",
            "atoned          0.0       0.0           0.0     0.0     0.0     0.0   \n",
            "mayflower       0.0       0.0           0.0     0.0     0.0     0.0   \n",
            "walks           0.0       0.0           0.0     0.0     0.0     0.0   \n",
            "realistically   0.0       0.0           0.0     0.0     0.0     0.0   \n",
            "american        0.0       0.0           0.0     0.0     0.0     0.0   \n",
            "\n",
            "               mayflower  walks  realistically  american  \n",
            "quot                 0.0    0.0            0.0       0.0  \n",
            "warsquot             0.0    0.0            0.0       0.0  \n",
            "inconsistent         0.0    0.0            0.0       0.0  \n",
            "ensues               0.0    0.0            0.0       0.0  \n",
            "tyrant               0.0    0.0            0.0       0.0  \n",
            "atoned               0.0    0.0            0.0       0.0  \n",
            "mayflower            0.0    0.0            0.0       0.0  \n",
            "walks                0.0    0.0            0.0       0.0  \n",
            "realistically        0.0    0.0            0.0       0.0  \n",
            "american             0.0    0.0            0.0       0.0  \n"
          ]
        }
      ]
    },
    {
      "cell_type": "code",
      "source": [
        "# define a matrix\n",
        "A = array(df)\n",
        "# SVD\n",
        "U, s, VT = svd(A)\n",
        "Sigma = diag(s)\n",
        "U.shape,Sigma.shape,VT.shape"
      ],
      "metadata": {
        "colab": {
          "base_uri": "https://localhost:8080/"
        },
        "id": "VFuXBrNehiji",
        "outputId": "e0f502b6-b12f-4172-d850-1fe2e09dc879"
      },
      "execution_count": 15,
      "outputs": [
        {
          "output_type": "execute_result",
          "data": {
            "text/plain": [
              "((9944, 9944), (9944, 9944), (9944, 9944))"
            ]
          },
          "metadata": {},
          "execution_count": 15
        }
      ]
    },
    {
      "cell_type": "code",
      "source": [
        "# reducing it to a dimensionality of k = 1000\n",
        "k = 1000\n",
        "U_k = U[:,:k]\n",
        "Sigma_k = Sigma[:k,:k]\n",
        "VT_k = VT[:k,:]\n",
        "U_k.shape,Sigma_k.shape,VT_k.shape"
      ],
      "metadata": {
        "colab": {
          "base_uri": "https://localhost:8080/"
        },
        "id": "Yj5pDBb-hj9U",
        "outputId": "53bbe6af-1d85-4277-d1d1-fc7dfa08c750"
      },
      "execution_count": 16,
      "outputs": [
        {
          "output_type": "execute_result",
          "data": {
            "text/plain": [
              "((9944, 1000), (1000, 1000), (1000, 9944))"
            ]
          },
          "metadata": {},
          "execution_count": 16
        }
      ]
    },
    {
      "cell_type": "code",
      "source": [
        "U_df=pd.DataFrame(U_k,index=unique_vocab)\n",
        "U_df"
      ],
      "metadata": {
        "colab": {
          "base_uri": "https://localhost:8080/",
          "height": 488
        },
        "id": "6vOHWFYShqaw",
        "outputId": "3730325c-8a22-40bc-d046-2d1d35f96ce5"
      },
      "execution_count": 17,
      "outputs": [
        {
          "output_type": "execute_result",
          "data": {
            "text/plain": [
              "                   0         1         2         3         4         5    \\\n",
              "quot         -0.000060 -0.000022  0.000046  0.000080  0.000115  0.000134   \n",
              "warsquot     -0.000068 -0.000031  0.000171  0.000146  0.000099 -0.000162   \n",
              "inconsistent -0.000043 -0.000042  0.000064  0.000087 -0.000016  0.000096   \n",
              "ensues       -0.000042 -0.000016  0.000025 -0.000003  0.000118 -0.000023   \n",
              "tyrant       -0.000100  0.000065 -0.000091 -0.000023  0.000010 -0.000145   \n",
              "...                ...       ...       ...       ...       ...       ...   \n",
              "wishes       -0.000266 -0.000155  0.000254 -0.000393  0.000692 -0.000736   \n",
              "hinkle       -0.000046  0.000025  0.000050  0.000087 -0.000041 -0.000185   \n",
              "action       -0.001738 -0.000112 -0.001380  0.000763 -0.000591 -0.001884   \n",
              "wrote        -0.000817  0.000711  0.000445 -0.000711  0.000142 -0.001073   \n",
              "livestock    -0.000099 -0.000040  0.000063  0.000204  0.000137 -0.000500   \n",
              "\n",
              "                   6         7         8         9    ...       990       991  \\\n",
              "quot         -0.000066 -0.000196 -0.000100 -0.000020  ...  0.004589  0.000286   \n",
              "warsquot     -0.000007 -0.000278  0.000098 -0.000066  ... -0.013506 -0.000872   \n",
              "inconsistent -0.000085 -0.000141 -0.000036  0.000017  ...  0.002395 -0.005695   \n",
              "ensues        0.000105 -0.000029  0.000054 -0.000121  ... -0.000660 -0.002722   \n",
              "tyrant        0.000061 -0.000071  0.000119 -0.000070  ... -0.000037  0.000328   \n",
              "...                ...       ...       ...       ...  ...       ...       ...   \n",
              "wishes       -0.000851  0.000560  0.000698  0.001657  ...  0.000908  0.001341   \n",
              "hinkle       -0.000265  0.000112  0.000130  0.000346  ... -0.008955 -0.002346   \n",
              "action        0.000213  0.000186  0.001747 -0.000689  ...  0.010559 -0.013580   \n",
              "wrote        -0.000674  0.001009 -0.000478 -0.001152  ...  0.006064  0.001573   \n",
              "livestock     0.000136 -0.000078  0.000214 -0.000209  ...  0.001669  0.003936   \n",
              "\n",
              "                   992       993       994       995       996       997  \\\n",
              "quot         -0.000963  0.002951 -0.000541 -0.001280  0.000442 -0.004123   \n",
              "warsquot     -0.002460  0.002898  0.005822 -0.000907 -0.008831  0.003634   \n",
              "inconsistent  0.004770 -0.005161  0.006807 -0.007082 -0.002532  0.000119   \n",
              "ensues        0.000494  0.003150  0.001822  0.000228 -0.000479  0.002263   \n",
              "tyrant        0.000175 -0.000334 -0.000434 -0.000087 -0.000312 -0.000297   \n",
              "...                ...       ...       ...       ...       ...       ...   \n",
              "wishes       -0.000423 -0.001950  0.000722  0.000292 -0.003493 -0.003487   \n",
              "hinkle       -0.069188  0.112629 -0.000590 -0.030283  0.094223 -0.004426   \n",
              "action        0.031377 -0.012276 -0.024503  0.036175 -0.017311 -0.015860   \n",
              "wrote        -0.007983  0.022126  0.000232 -0.001561 -0.015231  0.021976   \n",
              "livestock    -0.004114 -0.001317 -0.001525  0.001886  0.000608  0.005840   \n",
              "\n",
              "                   998       999  \n",
              "quot         -0.003243 -0.003654  \n",
              "warsquot     -0.005160  0.008463  \n",
              "inconsistent -0.002638 -0.005871  \n",
              "ensues       -0.002385  0.000428  \n",
              "tyrant        0.000426 -0.000021  \n",
              "...                ...       ...  \n",
              "wishes       -0.001269 -0.000249  \n",
              "hinkle        0.051928  0.012321  \n",
              "action        0.051612  0.029216  \n",
              "wrote        -0.013569 -0.000125  \n",
              "livestock    -0.003188 -0.001149  \n",
              "\n",
              "[9944 rows x 1000 columns]"
            ],
            "text/html": [
              "\n",
              "  <div id=\"df-86d7096e-36e0-4968-a376-44695dca1ca6\">\n",
              "    <div class=\"colab-df-container\">\n",
              "      <div>\n",
              "<style scoped>\n",
              "    .dataframe tbody tr th:only-of-type {\n",
              "        vertical-align: middle;\n",
              "    }\n",
              "\n",
              "    .dataframe tbody tr th {\n",
              "        vertical-align: top;\n",
              "    }\n",
              "\n",
              "    .dataframe thead th {\n",
              "        text-align: right;\n",
              "    }\n",
              "</style>\n",
              "<table border=\"1\" class=\"dataframe\">\n",
              "  <thead>\n",
              "    <tr style=\"text-align: right;\">\n",
              "      <th></th>\n",
              "      <th>0</th>\n",
              "      <th>1</th>\n",
              "      <th>2</th>\n",
              "      <th>3</th>\n",
              "      <th>4</th>\n",
              "      <th>5</th>\n",
              "      <th>6</th>\n",
              "      <th>7</th>\n",
              "      <th>8</th>\n",
              "      <th>9</th>\n",
              "      <th>...</th>\n",
              "      <th>990</th>\n",
              "      <th>991</th>\n",
              "      <th>992</th>\n",
              "      <th>993</th>\n",
              "      <th>994</th>\n",
              "      <th>995</th>\n",
              "      <th>996</th>\n",
              "      <th>997</th>\n",
              "      <th>998</th>\n",
              "      <th>999</th>\n",
              "    </tr>\n",
              "  </thead>\n",
              "  <tbody>\n",
              "    <tr>\n",
              "      <th>quot</th>\n",
              "      <td>-0.000060</td>\n",
              "      <td>-0.000022</td>\n",
              "      <td>0.000046</td>\n",
              "      <td>0.000080</td>\n",
              "      <td>0.000115</td>\n",
              "      <td>0.000134</td>\n",
              "      <td>-0.000066</td>\n",
              "      <td>-0.000196</td>\n",
              "      <td>-0.000100</td>\n",
              "      <td>-0.000020</td>\n",
              "      <td>...</td>\n",
              "      <td>0.004589</td>\n",
              "      <td>0.000286</td>\n",
              "      <td>-0.000963</td>\n",
              "      <td>0.002951</td>\n",
              "      <td>-0.000541</td>\n",
              "      <td>-0.001280</td>\n",
              "      <td>0.000442</td>\n",
              "      <td>-0.004123</td>\n",
              "      <td>-0.003243</td>\n",
              "      <td>-0.003654</td>\n",
              "    </tr>\n",
              "    <tr>\n",
              "      <th>warsquot</th>\n",
              "      <td>-0.000068</td>\n",
              "      <td>-0.000031</td>\n",
              "      <td>0.000171</td>\n",
              "      <td>0.000146</td>\n",
              "      <td>0.000099</td>\n",
              "      <td>-0.000162</td>\n",
              "      <td>-0.000007</td>\n",
              "      <td>-0.000278</td>\n",
              "      <td>0.000098</td>\n",
              "      <td>-0.000066</td>\n",
              "      <td>...</td>\n",
              "      <td>-0.013506</td>\n",
              "      <td>-0.000872</td>\n",
              "      <td>-0.002460</td>\n",
              "      <td>0.002898</td>\n",
              "      <td>0.005822</td>\n",
              "      <td>-0.000907</td>\n",
              "      <td>-0.008831</td>\n",
              "      <td>0.003634</td>\n",
              "      <td>-0.005160</td>\n",
              "      <td>0.008463</td>\n",
              "    </tr>\n",
              "    <tr>\n",
              "      <th>inconsistent</th>\n",
              "      <td>-0.000043</td>\n",
              "      <td>-0.000042</td>\n",
              "      <td>0.000064</td>\n",
              "      <td>0.000087</td>\n",
              "      <td>-0.000016</td>\n",
              "      <td>0.000096</td>\n",
              "      <td>-0.000085</td>\n",
              "      <td>-0.000141</td>\n",
              "      <td>-0.000036</td>\n",
              "      <td>0.000017</td>\n",
              "      <td>...</td>\n",
              "      <td>0.002395</td>\n",
              "      <td>-0.005695</td>\n",
              "      <td>0.004770</td>\n",
              "      <td>-0.005161</td>\n",
              "      <td>0.006807</td>\n",
              "      <td>-0.007082</td>\n",
              "      <td>-0.002532</td>\n",
              "      <td>0.000119</td>\n",
              "      <td>-0.002638</td>\n",
              "      <td>-0.005871</td>\n",
              "    </tr>\n",
              "    <tr>\n",
              "      <th>ensues</th>\n",
              "      <td>-0.000042</td>\n",
              "      <td>-0.000016</td>\n",
              "      <td>0.000025</td>\n",
              "      <td>-0.000003</td>\n",
              "      <td>0.000118</td>\n",
              "      <td>-0.000023</td>\n",
              "      <td>0.000105</td>\n",
              "      <td>-0.000029</td>\n",
              "      <td>0.000054</td>\n",
              "      <td>-0.000121</td>\n",
              "      <td>...</td>\n",
              "      <td>-0.000660</td>\n",
              "      <td>-0.002722</td>\n",
              "      <td>0.000494</td>\n",
              "      <td>0.003150</td>\n",
              "      <td>0.001822</td>\n",
              "      <td>0.000228</td>\n",
              "      <td>-0.000479</td>\n",
              "      <td>0.002263</td>\n",
              "      <td>-0.002385</td>\n",
              "      <td>0.000428</td>\n",
              "    </tr>\n",
              "    <tr>\n",
              "      <th>tyrant</th>\n",
              "      <td>-0.000100</td>\n",
              "      <td>0.000065</td>\n",
              "      <td>-0.000091</td>\n",
              "      <td>-0.000023</td>\n",
              "      <td>0.000010</td>\n",
              "      <td>-0.000145</td>\n",
              "      <td>0.000061</td>\n",
              "      <td>-0.000071</td>\n",
              "      <td>0.000119</td>\n",
              "      <td>-0.000070</td>\n",
              "      <td>...</td>\n",
              "      <td>-0.000037</td>\n",
              "      <td>0.000328</td>\n",
              "      <td>0.000175</td>\n",
              "      <td>-0.000334</td>\n",
              "      <td>-0.000434</td>\n",
              "      <td>-0.000087</td>\n",
              "      <td>-0.000312</td>\n",
              "      <td>-0.000297</td>\n",
              "      <td>0.000426</td>\n",
              "      <td>-0.000021</td>\n",
              "    </tr>\n",
              "    <tr>\n",
              "      <th>...</th>\n",
              "      <td>...</td>\n",
              "      <td>...</td>\n",
              "      <td>...</td>\n",
              "      <td>...</td>\n",
              "      <td>...</td>\n",
              "      <td>...</td>\n",
              "      <td>...</td>\n",
              "      <td>...</td>\n",
              "      <td>...</td>\n",
              "      <td>...</td>\n",
              "      <td>...</td>\n",
              "      <td>...</td>\n",
              "      <td>...</td>\n",
              "      <td>...</td>\n",
              "      <td>...</td>\n",
              "      <td>...</td>\n",
              "      <td>...</td>\n",
              "      <td>...</td>\n",
              "      <td>...</td>\n",
              "      <td>...</td>\n",
              "      <td>...</td>\n",
              "    </tr>\n",
              "    <tr>\n",
              "      <th>wishes</th>\n",
              "      <td>-0.000266</td>\n",
              "      <td>-0.000155</td>\n",
              "      <td>0.000254</td>\n",
              "      <td>-0.000393</td>\n",
              "      <td>0.000692</td>\n",
              "      <td>-0.000736</td>\n",
              "      <td>-0.000851</td>\n",
              "      <td>0.000560</td>\n",
              "      <td>0.000698</td>\n",
              "      <td>0.001657</td>\n",
              "      <td>...</td>\n",
              "      <td>0.000908</td>\n",
              "      <td>0.001341</td>\n",
              "      <td>-0.000423</td>\n",
              "      <td>-0.001950</td>\n",
              "      <td>0.000722</td>\n",
              "      <td>0.000292</td>\n",
              "      <td>-0.003493</td>\n",
              "      <td>-0.003487</td>\n",
              "      <td>-0.001269</td>\n",
              "      <td>-0.000249</td>\n",
              "    </tr>\n",
              "    <tr>\n",
              "      <th>hinkle</th>\n",
              "      <td>-0.000046</td>\n",
              "      <td>0.000025</td>\n",
              "      <td>0.000050</td>\n",
              "      <td>0.000087</td>\n",
              "      <td>-0.000041</td>\n",
              "      <td>-0.000185</td>\n",
              "      <td>-0.000265</td>\n",
              "      <td>0.000112</td>\n",
              "      <td>0.000130</td>\n",
              "      <td>0.000346</td>\n",
              "      <td>...</td>\n",
              "      <td>-0.008955</td>\n",
              "      <td>-0.002346</td>\n",
              "      <td>-0.069188</td>\n",
              "      <td>0.112629</td>\n",
              "      <td>-0.000590</td>\n",
              "      <td>-0.030283</td>\n",
              "      <td>0.094223</td>\n",
              "      <td>-0.004426</td>\n",
              "      <td>0.051928</td>\n",
              "      <td>0.012321</td>\n",
              "    </tr>\n",
              "    <tr>\n",
              "      <th>action</th>\n",
              "      <td>-0.001738</td>\n",
              "      <td>-0.000112</td>\n",
              "      <td>-0.001380</td>\n",
              "      <td>0.000763</td>\n",
              "      <td>-0.000591</td>\n",
              "      <td>-0.001884</td>\n",
              "      <td>0.000213</td>\n",
              "      <td>0.000186</td>\n",
              "      <td>0.001747</td>\n",
              "      <td>-0.000689</td>\n",
              "      <td>...</td>\n",
              "      <td>0.010559</td>\n",
              "      <td>-0.013580</td>\n",
              "      <td>0.031377</td>\n",
              "      <td>-0.012276</td>\n",
              "      <td>-0.024503</td>\n",
              "      <td>0.036175</td>\n",
              "      <td>-0.017311</td>\n",
              "      <td>-0.015860</td>\n",
              "      <td>0.051612</td>\n",
              "      <td>0.029216</td>\n",
              "    </tr>\n",
              "    <tr>\n",
              "      <th>wrote</th>\n",
              "      <td>-0.000817</td>\n",
              "      <td>0.000711</td>\n",
              "      <td>0.000445</td>\n",
              "      <td>-0.000711</td>\n",
              "      <td>0.000142</td>\n",
              "      <td>-0.001073</td>\n",
              "      <td>-0.000674</td>\n",
              "      <td>0.001009</td>\n",
              "      <td>-0.000478</td>\n",
              "      <td>-0.001152</td>\n",
              "      <td>...</td>\n",
              "      <td>0.006064</td>\n",
              "      <td>0.001573</td>\n",
              "      <td>-0.007983</td>\n",
              "      <td>0.022126</td>\n",
              "      <td>0.000232</td>\n",
              "      <td>-0.001561</td>\n",
              "      <td>-0.015231</td>\n",
              "      <td>0.021976</td>\n",
              "      <td>-0.013569</td>\n",
              "      <td>-0.000125</td>\n",
              "    </tr>\n",
              "    <tr>\n",
              "      <th>livestock</th>\n",
              "      <td>-0.000099</td>\n",
              "      <td>-0.000040</td>\n",
              "      <td>0.000063</td>\n",
              "      <td>0.000204</td>\n",
              "      <td>0.000137</td>\n",
              "      <td>-0.000500</td>\n",
              "      <td>0.000136</td>\n",
              "      <td>-0.000078</td>\n",
              "      <td>0.000214</td>\n",
              "      <td>-0.000209</td>\n",
              "      <td>...</td>\n",
              "      <td>0.001669</td>\n",
              "      <td>0.003936</td>\n",
              "      <td>-0.004114</td>\n",
              "      <td>-0.001317</td>\n",
              "      <td>-0.001525</td>\n",
              "      <td>0.001886</td>\n",
              "      <td>0.000608</td>\n",
              "      <td>0.005840</td>\n",
              "      <td>-0.003188</td>\n",
              "      <td>-0.001149</td>\n",
              "    </tr>\n",
              "  </tbody>\n",
              "</table>\n",
              "<p>9944 rows × 1000 columns</p>\n",
              "</div>\n",
              "      <button class=\"colab-df-convert\" onclick=\"convertToInteractive('df-86d7096e-36e0-4968-a376-44695dca1ca6')\"\n",
              "              title=\"Convert this dataframe to an interactive table.\"\n",
              "              style=\"display:none;\">\n",
              "        \n",
              "  <svg xmlns=\"http://www.w3.org/2000/svg\" height=\"24px\"viewBox=\"0 0 24 24\"\n",
              "       width=\"24px\">\n",
              "    <path d=\"M0 0h24v24H0V0z\" fill=\"none\"/>\n",
              "    <path d=\"M18.56 5.44l.94 2.06.94-2.06 2.06-.94-2.06-.94-.94-2.06-.94 2.06-2.06.94zm-11 1L8.5 8.5l.94-2.06 2.06-.94-2.06-.94L8.5 2.5l-.94 2.06-2.06.94zm10 10l.94 2.06.94-2.06 2.06-.94-2.06-.94-.94-2.06-.94 2.06-2.06.94z\"/><path d=\"M17.41 7.96l-1.37-1.37c-.4-.4-.92-.59-1.43-.59-.52 0-1.04.2-1.43.59L10.3 9.45l-7.72 7.72c-.78.78-.78 2.05 0 2.83L4 21.41c.39.39.9.59 1.41.59.51 0 1.02-.2 1.41-.59l7.78-7.78 2.81-2.81c.8-.78.8-2.07 0-2.86zM5.41 20L4 18.59l7.72-7.72 1.47 1.35L5.41 20z\"/>\n",
              "  </svg>\n",
              "      </button>\n",
              "      \n",
              "  <style>\n",
              "    .colab-df-container {\n",
              "      display:flex;\n",
              "      flex-wrap:wrap;\n",
              "      gap: 12px;\n",
              "    }\n",
              "\n",
              "    .colab-df-convert {\n",
              "      background-color: #E8F0FE;\n",
              "      border: none;\n",
              "      border-radius: 50%;\n",
              "      cursor: pointer;\n",
              "      display: none;\n",
              "      fill: #1967D2;\n",
              "      height: 32px;\n",
              "      padding: 0 0 0 0;\n",
              "      width: 32px;\n",
              "    }\n",
              "\n",
              "    .colab-df-convert:hover {\n",
              "      background-color: #E2EBFA;\n",
              "      box-shadow: 0px 1px 2px rgba(60, 64, 67, 0.3), 0px 1px 3px 1px rgba(60, 64, 67, 0.15);\n",
              "      fill: #174EA6;\n",
              "    }\n",
              "\n",
              "    [theme=dark] .colab-df-convert {\n",
              "      background-color: #3B4455;\n",
              "      fill: #D2E3FC;\n",
              "    }\n",
              "\n",
              "    [theme=dark] .colab-df-convert:hover {\n",
              "      background-color: #434B5C;\n",
              "      box-shadow: 0px 1px 3px 1px rgba(0, 0, 0, 0.15);\n",
              "      filter: drop-shadow(0px 1px 2px rgba(0, 0, 0, 0.3));\n",
              "      fill: #FFFFFF;\n",
              "    }\n",
              "  </style>\n",
              "\n",
              "      <script>\n",
              "        const buttonEl =\n",
              "          document.querySelector('#df-86d7096e-36e0-4968-a376-44695dca1ca6 button.colab-df-convert');\n",
              "        buttonEl.style.display =\n",
              "          google.colab.kernel.accessAllowed ? 'block' : 'none';\n",
              "\n",
              "        async function convertToInteractive(key) {\n",
              "          const element = document.querySelector('#df-86d7096e-36e0-4968-a376-44695dca1ca6');\n",
              "          const dataTable =\n",
              "            await google.colab.kernel.invokeFunction('convertToInteractive',\n",
              "                                                     [key], {});\n",
              "          if (!dataTable) return;\n",
              "\n",
              "          const docLinkHtml = 'Like what you see? Visit the ' +\n",
              "            '<a target=\"_blank\" href=https://colab.research.google.com/notebooks/data_table.ipynb>data table notebook</a>'\n",
              "            + ' to learn more about interactive tables.';\n",
              "          element.innerHTML = '';\n",
              "          dataTable['output_type'] = 'display_data';\n",
              "          await google.colab.output.renderOutput(dataTable, element);\n",
              "          const docLink = document.createElement('div');\n",
              "          docLink.innerHTML = docLinkHtml;\n",
              "          element.appendChild(docLink);\n",
              "        }\n",
              "      </script>\n",
              "    </div>\n",
              "  </div>\n",
              "  "
            ]
          },
          "metadata": {},
          "execution_count": 17
        }
      ]
    },
    {
      "cell_type": "code",
      "source": [
        "emb_list={}\n",
        "c=0\n",
        "for i in list(U_df.index):\n",
        "    emb_list[i]=list(U_df.loc[i])\n",
        "    c=c+1"
      ],
      "metadata": {
        "id": "IkFGv-vehsil"
      },
      "execution_count": 18,
      "outputs": []
    },
    {
      "cell_type": "code",
      "source": [
        "count = 0\n",
        "for key in emb_list:\n",
        "    if count < 5:\n",
        "        print(key, ':', emb_list[key])\n",
        "        count += 1\n",
        "    else:\n",
        "        break\n"
      ],
      "metadata": {
        "colab": {
          "base_uri": "https://localhost:8080/"
        },
        "id": "dM04av5lmGVo",
        "outputId": "38d65cd8-0b9b-4f4b-eb57-9d3439746667"
      },
      "execution_count": 19,
      "outputs": [
        {
          "output_type": "stream",
          "name": "stdout",
          "text": [
            "quot : [-5.9804452125722385e-05, -2.2460791853709527e-05, 4.5577783980094155e-05, 8.0143665446758e-05, 0.00011463206830750194, 0.00013417284343264502, -6.575418089943552e-05, -0.00019593914726212525, -9.988343892017304e-05, -1.9807104109818147e-05, -0.00011935357201968422, -0.00012756856594109411, -0.00018498704426078705, -0.0001171027346914405, -4.163288997344021e-06, -2.244968244349138e-05, -8.1561497067624e-05, -0.0002877058446685288, -7.727167937464363e-05, -2.6354329414337088e-05, -3.293465606105453e-05, 4.2929660774662995e-05, 2.4262671787662546e-05, 2.189115520878724e-05, 0.0001290938002714015, -1.4898961578206117e-05, -3.4435614243497406e-05, 1.9462239188219183e-05, -2.2280575424147957e-05, 1.1008719560043345e-05, -5.0839785805219945e-05, 7.242316147770692e-06, -1.1403487118021374e-05, 1.1845364700065197e-05, -1.063643060584098e-05, -8.406681799590435e-05, 0.00014117068980004643, 3.152501862606089e-05, -9.864606129755815e-05, -0.00010514890062573307, -3.655431788532164e-05, -0.0002775536543787663, -9.180676828171586e-05, -0.0002645824297743335, -3.656192510071137e-05, -0.00026265527701878344, -1.2080839112682583e-05, 0.00021934151553986564, 0.00013665457655072724, 2.4113720365456174e-05, 9.600739449207481e-05, 0.00035128666036050166, -3.1435739199245014e-05, -4.7358029841727996e-05, 6.635165177789303e-05, -0.0001484096908383123, -2.831544289887437e-05, -0.0001358698988954722, 0.000460464035635412, 9.909072718942459e-05, 2.129687939031585e-05, 3.348322211606594e-06, -0.00022493463637881378, -0.00013673778792528714, -4.898903369350647e-05, 0.00023411394507515462, -0.00020202123169979838, -0.0001790528812619617, 0.0002204723691098115, -0.00025465374836211585, 8.72443685807113e-05, -0.00010622956641712089, -3.295913971935571e-06, 0.0003705876235469141, -0.00022040507392924458, 0.00020494579106197786, 0.00011093301857427809, 0.0002948412515047967, -2.2517208837741047e-05, -0.00015293695544889817, -3.848680932778915e-05, 6.73159465463518e-05, 0.00017180897126771282, -0.00024753041937206066, -0.00015802682759916836, -5.10070070864878e-06, -9.160085008394665e-05, -0.00022982854526397076, -5.0268768446269305e-05, -6.475113270321652e-05, -0.0004466569264684264, 0.00022087261844102452, 0.0001980653350532411, -6.51408112025409e-05, -0.0003535180858936886, 0.00026833866619146995, 0.0001566572261867908, -0.00032725449648574045, -5.066779327601769e-05, -0.0003054322192012869, -0.00030341451156068455, -0.0001961018631354075, 3.5324595486687076e-05, 0.00019206254916983093, 0.0002683232919781127, -6.034924782262127e-05, -0.0002626698168071359, -1.2930025118340648e-05, 0.00027920665308246717, 0.0003331819492468774, 0.0003997928758624168, -0.00017110879193303619, -3.5382614072346826e-05, -0.00011347733495408689, 7.678149185431221e-05, -5.928590721467064e-05, 0.0002297921975860373, 0.00011933995843282745, -0.0004324950402379221, 0.00035373469457216505, 0.00016241585670561005, 0.0001888604610697786, 4.904127005376244e-05, 0.00039692240596279557, 0.00019647839063033704, -0.0004977092496112126, 0.0002675674832825232, 0.0001715362115718294, -2.455628924386737e-05, 0.00010052884538515848, -0.0003233445314909031, -5.170450582761598e-05, 0.00011324741732415215, 8.15868205859935e-05, -6.58827665977e-05, 0.0001681924306260905, 2.8596961702780218e-05, -0.0001967811480593131, 0.00026017925235729926, -0.00020138367275399777, -0.0002689663201392231, 5.153001600433386e-05, 9.116941726091928e-05, -0.0005117919980742978, 6.745513510237168e-05, -1.2017813294943778e-05, 0.0001468419918905818, -3.4510360071055186e-05, 0.00015431006015813667, 9.643377829784755e-05, 0.00045510413953594314, -0.00013288925919580866, 0.00015001575229252676, 0.0004531225981660378, 0.00020318255899979057, -0.0002232293616374753, 0.00027930714524251193, -0.000395721316035276, 0.0006239889140828431, -0.00031087419331861724, 0.00010305280505571238, -0.0002584124487549407, -0.00023573960375701183, 0.0002511126583007086, -9.13775718459544e-05, -3.5367642821704194e-05, 6.911241631879375e-05, -0.0002687014721622794, -0.0003734522213653547, 5.617604493112524e-05, -0.0004012180327468799, -0.0005367373948000249, 0.00020327629904862664, 0.00043373353075854514, -0.00023583973376869842, 0.00013438417162201129, -0.0002105428693613626, 0.0007155071801936107, -0.00039922188158329937, 0.0006024532943914619, -0.0002783856616614573, -0.0005249732404312805, 0.00015440889338581322, -0.00039504567030401727, -0.0010708011297899875, -0.000602154678047865, 0.0004359358054014835, 0.00037426690195978274, 0.000355556368607143, -0.00041278249856108347, -0.0001842134277644349, 0.0006338742612739187, 0.00023061089517600712, 0.00021834667481486925, 0.00014503558060868348, 4.571176024482861e-05, 0.0006819856199546948, 0.0003846847200141366, 1.4120418997984373e-05, 0.0007558020151863798, 7.70412748417877e-05, -9.403471415608258e-05, -0.0006472783896904095, 0.000774436807126893, 3.158302684437911e-05, -0.0004690634225638698, -0.00017848477272813107, 0.0005911792040748688, -0.00013190794366559934, 0.0004083369519128303, 0.0006339208742970059, 0.0005940392992388917, 0.0007905314696457638, -0.00021245700106015206, 1.9143230183681634e-05, -0.0002734305616865435, -0.0001732096911800235, -0.0010000799067808805, -3.10507036761728e-05, 0.0001254242165170381, 0.0001981104485534813, 4.999629162995745e-05, -1.4562267475900926e-06, 0.0006865969182596431, 0.000810192586290566, -7.506206787747131e-05, -0.0004128863765077203, 0.000207591958032354, 0.00010355089122364393, -1.7576450078002587e-05, -4.0245805630104815e-06, -9.249287245489653e-05, -0.00016790799788404115, 0.0007723957083501445, -5.362476879531772e-05, -0.00012767781221668289, 8.26597023940855e-05, -2.863187923529383e-05, -0.00015974415696058718, 0.0002099423083044465, 0.0002752906114709868, 0.0008933549126361913, -0.0005171210325283157, 0.00025526807162415833, -0.00016734417851622463, 0.0008321630978201412, 0.0003910284326356095, -0.00011731278855294479, -0.00020028595836385412, 0.00019895756790058207, 2.3480821461877455e-05, -0.0001748033903596546, -5.206346864414409e-05, 0.0003091076143913402, -4.117899316598056e-05, -0.00023283686618407774, -5.693260976104503e-05, 0.00010567311486344008, 0.00017675640496880906, -0.00022185103160700208, 0.00021612279208065022, 8.536732641751242e-05, 0.00028016110394321267, 0.00017289315980005852, -9.75143939893825e-05, -0.0002867469433891351, 8.033221914776419e-05, 0.00027639214872602225, 0.0008287928581600934, -0.00033345817048584855, 5.232903183189437e-05, -8.893411578545971e-05, -3.325577599123258e-05, 0.0002024879255472403, -0.0006151962701152289, -0.0011569050591238063, 0.000827715269656068, -1.2430979474577415e-05, -0.0008721428289160428, 0.0003051740260865436, 0.0003461851374118559, 0.0001525542501832045, 3.636580948201279e-05, 0.0010090110844883787, 0.0009442539552511446, -0.00024533041673306145, 0.0006310511290281255, 7.297461684830807e-05, 0.0005925379925805444, -0.001208122047429993, -0.00038577274385852116, -7.372711831772042e-05, 0.0005584274901260042, 0.00032911839054765996, 0.0008843423806294531, 0.0004703801373923261, 0.0006097421052834208, -0.00022224643256746465, -0.0002985926137427427, 3.8166244362034256e-05, -0.0009698113594798236, 8.202524213462735e-05, -0.0002507534062670194, -7.43593358019292e-05, 0.0007925131521044279, 0.0002040604357552464, 0.0007862477120599669, -0.0002083956566548439, 0.0006407346646431934, -0.0005093807057694709, -0.00017332214603422644, 0.0003676677080118231, -0.0008352935595595246, 8.999116539115432e-05, -0.000785576019218269, 0.0001942175211335933, 0.00013486729502835016, -0.000737675186796679, -0.0010082837285253759, 6.343699510406408e-05, 0.00023255492040645444, -0.0005945015773117322, -0.00011780776917051108, 0.0009769360841021535, 0.0004921734354079253, -0.0006221247650052882, -0.0003397758556019821, 0.0015176589046339457, -1.9065659512452267e-05, 0.00042630028197634257, -0.00034515788096706884, 0.00019888734746106298, -0.0007428600773816858, -0.00030482318407033804, 0.0011096838392182298, -0.0006239311367374368, -0.0005753013532776453, 0.0005393875450937155, -0.000716657271003892, -3.58092164274127e-05, 0.00013430699890847162, -0.0007974505576501395, -0.00016704554323300046, 0.0001272296490439004, 0.00012143553500544861, -0.0005045235387911113, -0.00037928077175379375, 0.00039646223032932786, -0.0009543072453815412, 0.000950489677204935, 0.0006760126939941973, -0.0003716991282354566, -0.0004933349420480808, -0.0017991078783672655, 2.9418926462841525e-05, 0.0013788292535600703, -2.4017899496265162e-05, 0.0009539160645381777, -0.0007829271415704334, -0.0015610813007408998, 0.0007881083775763634, -8.146679560950805e-05, -0.00022507552764234554, -0.000623247584958098, -0.0002850293258678128, -0.0009203143969504744, -0.0011857252022551175, 0.0006682584402953294, 0.0002407533957686143, -8.625613984359162e-05, -0.0004950268484781644, -0.0007127323558857885, 0.00020843377569676946, 0.001150158968823643, -0.0005373145451960095, -0.0010559324608374002, -0.0005333587217962298, -0.0003439562064053627, -0.00031295098884289753, -0.000482535833829548, 0.0011378439141762377, 3.436419099106042e-05, 0.0010210507464779618, 0.0012843027406200455, -0.0007487952375228382, -0.00025700181481202794, -0.0009822797229258, 0.00020383997673773576, 0.001485188904633901, 0.00017135543912904236, 0.0005467393933717181, 9.922762771390176e-06, -0.0012700704647375279, -0.0010611691625287342, 0.0014193405491136415, -0.0009209924804385074, -0.000186662982742938, -0.00028260137046372084, -0.0014981073309805332, -7.749974747039875e-06, 0.0010291087638885765, -0.0014495901656001557, -0.0009686610521626067, 0.0015242856246804846, 0.0005178681639271205, -0.00013715047466907656, -0.0024326402852789773, -0.0010412336993636927, -0.00024421443573627863, 0.0003132297813896582, 0.0007801389710150874, 0.0003645636123224046, 7.343191832245345e-05, -0.0013320014156929655, -0.000992669071557711, 0.0006035304223616237, -0.00014579860134674122, -0.0012250925746479634, -0.0013715525519809105, -0.00051226076024083, -0.0013237623441680786, 0.00032055891400693164, -0.0008361624475184595, -0.0015353807894897924, -0.0005995687735687386, -0.0005646103890503094, 0.001756750826358424, -0.002142317488479848, -0.000470604176134334, 5.049830398815784e-05, -0.0014634801950128146, 0.001956369991977701, 0.0003751105689180148, -0.001860165882249909, 0.0019916095181718024, 3.0909470795251957e-06, 7.309886353400598e-05, -0.000486895683141096, 0.0012011022135816948, 0.0008339846148494538, -0.0007690664314669877, -0.0011504266758315118, -0.0009669018305113186, -0.0018029906553414903, -0.00018779865792674594, 0.001207559957637161, -0.0008142805770146432, 0.0006527604860915581, 0.0013538542255511314, -0.00035249360345795434, 0.0007733212552689869, -0.000674273123714964, 0.0014603942574645395, -0.002669032330840204, 0.0008346907162835853, -0.0003425349008743042, -0.0012052660042177026, 0.001445494489059937, 0.003448266988451229, 0.00036000421559072336, -0.0010436651899989793, -0.0020344110216248233, -0.0011875881132177094, 0.0006713606585323009, 0.002059267701587583, 0.0006281153791013756, -0.001194376662083425, -0.0014493391836149887, 0.001269099701560597, -0.0002141739233503556, -0.0013833310873653925, -0.0006384191265175641, 0.0015965158560988235, 0.0016373050205188543, 0.0013518649990409467, -0.0035558178341848073, 0.0015817458759803393, 0.0004818467413470187, -0.0011241365433996182, 0.0004960907849870235, -3.41082730573573e-05, 0.002706893731557372, 0.0011125764565589318, -0.001280126134883713, 0.0029640016047496193, 0.00258614185510727, 0.0004993580959171233, -0.0011500856482253297, -0.0001838235950892698, -0.0012904351478852955, 0.0020142703080823048, -0.0023000658892042003, 0.0016196412748707943, 0.0010123926028282812, -0.0013357017978012503, 0.00024337848146875098, 0.0007918268654100889, 9.121018498172849e-05, -0.0010565363634731251, -0.0012661888403216245, 0.0010644632007021128, -0.001401684602104521, 0.0021744483234375604, -0.0009085531023859898, 0.0003821285053581527, 0.0010189240832405386, -0.001218252610916598, -0.00036077216647825835, -0.0014360110391138069, -0.0015041021884468295, 0.001311423561708257, 0.0034156431934498632, -0.00048154763731525756, 0.003147503074723307, -0.0035000039259574164, -0.00040075326991438663, 0.0009024933921510494, -0.00041554440645445896, -0.0002339001215874402, -0.001783312571002598, 0.001003735458375456, 0.002099745197920954, -0.004132335529882521, 0.0003692492929285181, -0.0019205194969045408, -0.0015848786859288307, -0.0012656713064788123, -0.0020622354308766355, 0.0015899517995048053, -2.031358697652406e-06, 0.00036890376271012494, -0.0005988974161688244, 0.0008548125855420792, 0.0015725783507164297, 0.0001812635984042043, -0.0027847556814547293, 0.00011556997849066105, -0.0018304598490407505, -0.0018092092457548219, -0.0007748539474463981, 0.0019314189849862842, -0.00517455448333274, 0.0030124925520678553, -0.002974096679633123, 0.001890110683800017, -0.0011395653617969261, 0.0016210009383801887, -0.003560610188101481, 0.0011066190485611391, 0.0024206029156153275, 0.00023696912683495255, 0.0010637576152563617, -0.0005114437497027533, -0.0017126413850663026, 6.615400287160597e-05, 0.0009468520958759736, -0.00021019816253000636, 0.001779450412904851, 0.002358744489402525, -0.0005100720216316529, 0.003906953891040725, 0.001390714184446919, -0.002098389633856789, 0.0002658658922839595, -0.0026043173958530223, 0.00013354139724208042, 0.001888591005160218, 0.0010499467416246622, -0.0007834590894636746, 0.0028274195967249657, -0.0002738111952683051, 0.0015653404223549376, -0.0004949435879106076, -0.0009690113152936251, 0.00024702889889823216, -0.0007297751327667006, -0.0008962433908055924, -0.002325780615452841, -0.0016169918496210054, -7.644784744227358e-05, -8.30032699837089e-05, -3.836000687964283e-05, 0.0016238448804728241, 0.0010978423860305087, -0.000894946069657435, 0.0005223292322585624, -0.00017472968178081603, 0.0012338767370975463, -0.0009090274087285811, 0.0014310533778520169, -0.00039507542276866247, -0.002994195121483783, -0.0003535822301864934, 0.0025909694188063354, -0.002093086966615393, 0.0008765807296955358, 0.000795961888427189, -0.0027424120276900096, 0.00010379069784469499, 0.001789439041113526, 0.0021165500232852054, -0.003086062696948392, 0.002323134544080079, -0.0004973147692105065, 0.0013008242490663985, -0.004448602800832806, -0.0008734040718631087, 0.0020066143725882574, -0.00024135256403331443, 0.001470332388718975, -0.0013728064887564805, -0.0018748062648435686, 0.0017169681891885096, -0.0008311985542575713, 0.0016170411562213653, -0.00020427607699674902, 0.0034962916806312895, 0.0006861256639059373, -0.0009289670461915551, -0.0014584086283618933, 7.180230394800678e-05, -0.0014285171937809555, 0.00155499919484175, 1.4231765194491557e-05, -0.0010593276727867305, 0.0005077578160549833, 0.002034116982315823, 0.000601929955007803, 0.0021030762867563224, -0.0011868987826735428, -0.0022514290787435352, 0.001873104481132551, -0.0003992392983750222, 0.0029188923069809886, -0.0011350972846109267, 0.0008245179855945733, 0.00012713609454607444, 0.0021319813920398986, 0.001517437997751045, -0.001709372207528495, 0.00016779022464169535, -0.002871230664627515, 0.0005806746740799262, -0.0031481580963348722, -0.0014505246011590773, 0.0005153432391059726, 0.001312492744752482, -0.003004299576028366, -1.4643286814479802e-05, 0.0005277173687607052, 0.00010383033638196012, -0.0011882014163047527, 0.0006190739890043909, 0.004375165890070424, -0.0014948772224398724, -0.0003664686367607136, -0.0021434523203341348, 0.00016826115882373678, 0.0007775737965166254, -0.0006864531397417547, 0.0029813068852358807, -0.0012049335045863866, 0.0025889986697426384, -0.0005531176499917237, -0.004752097207429227, 0.0020649273579101263, -0.0033391591224931558, -0.002064255452617068, 0.0013224451699792132, -0.0008040436028844983, 0.0003618454818347383, -0.0006566953008427202, 0.0036920066472057693, -0.00019607865833548284, 0.00036646143857483986, -0.00010994000024045023, 8.59484920155421e-05, 0.002890197739888453, -0.000734353688727255, -0.00021700298544470955, 0.0012336273562575228, -0.0021265932898132996, 0.00140363782020342, -0.0008618753159642381, -5.548530150579887e-05, 0.0005458858820865733, -0.003068577461035761, 0.00018436916019720618, -0.002859785847642366, 0.002094786034122569, 0.0031503177237026357, -0.001673659061054775, 0.00011364519812897319, -0.0014923201487432453, -0.003364954228529112, -0.0006301576806238621, -0.0013768262898106402, 0.001917485847128789, 0.0013498114941532758, -0.003766956472631356, -0.005808926730490917, 0.0027210007256549054, 0.002999338567466838, -0.0005778152942317104, -0.002166782659588329, 0.0014347706995864757, -0.001993161746770408, 0.00038538137886629615, -0.0005626432049984291, 0.0012828930033828949, -0.0015213324349677062, 0.001616781348516328, 0.0019187297944475764, -0.0015898659494965849, 0.004140008071234946, -3.381335691235367e-05, -0.0020354782036606234, -0.0006465130563494074, -0.0007287901644348295, 3.1548409122491964e-05, 0.001107345726164521, -0.003216662033882777, 0.0011421179754066216, -0.0015582976367228552, 1.710415574754674e-05, 0.001803035183441621, 0.0023595038826132037, 0.002765918676246936, -0.003990829196874619, 0.0003037878141771389, -0.004223064615239226, -0.0020482187072671607, 8.45350590456443e-05, -0.0005835948039831112, -0.002657493822320181, 0.00021146089216043528, -0.0033518372084431376, 0.0003702520190224036, -0.002351749421868327, -0.000252632798486626, -0.004406852992346395, 0.0025480263399209127, -0.00236492254498152, -0.0003677549445377801, 0.00022993780231282874, 0.0018264555254536505, 0.00150673895381246, -0.0008408467362958595, -0.0006059429465159289, 0.0029914559604201103, 0.0020864069331253537, 0.0013249712247028061, 0.0011494408373310784, 0.0016393987293321609, -0.001433586612948413, -8.635368249844634e-06, 0.00014571076405871513, 0.0026055983897983435, 0.00327409851108627, 1.4555538525562928e-05, -0.00041661996401208025, -0.0008821200114672743, -0.0002057230462231361, -0.002725553063367624, 0.0006874221430817127, 0.0010665468943172893, -0.0008274688460322005, 0.0030915574211104607, 0.0006260693146630612, 0.0036855862805554515, -0.002425266998892143, -0.000934249185300824, -0.0008767606847110768, -0.0038817495971575702, 0.0022000466147406254, -0.0034013498756698575, -0.0001325615871945238, 0.0045798849937832425, 0.004969995372068013, 5.0593315044911527e-05, 0.002572705847977067, 0.001020833526957845, 0.0014749718742537053, 0.0007092748168919692, 0.0015434195466199879, 0.0008933665380799136, 0.003198376287189001, 0.003897411431299253, -0.0016446673161544228, -0.0006195810901120737, 0.0020623636364625487, -0.004187201596622229, -0.0022083427514509087, 0.0019804649901719023, 0.0021114778946563616, -0.0012247235238551733, -0.00144667373468064, -3.492730911327851e-05, 0.0017146963316836024, 0.000783335589188471, 0.004309817127008959, 0.0007570908982793274, 0.0012140535704143994, 0.0007901854390808551, 0.0025818258302701853, -0.0010965099482200874, -0.0019192445682366232, 0.00017222814832457752, 0.00346149269729136, -0.00631276679300595, -0.0012606421312107968, -0.004457701694601499, 0.0011410453002119684, -0.0010027399122763854, 0.0014698319138787969, 0.003631196362407274, 0.0024228975497271217, 0.001283512431790883, -0.002307574692857809, -0.0022480915758742396, -0.0006843012168646721, -0.0032530378408315453, -0.001497964118013272, 0.0008466274744031088, 0.002580335479237939, 0.0009640608498350262, 0.0016439622644368124, -0.0017309968013761862, -0.0012294197576495818, 0.002242697113260129, -0.002905373453671419, -0.0028218114509394685, 0.0003215123882997421, -0.003916064407070527, 4.2027427035146505e-06, 0.0036445128573572745, -0.0005302278407110042, -0.003610428363081253, -0.00018694874240256145, 0.001797889034885227, -0.0025557534895601034, 0.0016292906593262796, -0.00011849074326884411, -0.0040440078737763, -0.0030698327641966623, 0.0026119810149116338, -0.004879462487981309, -0.0038320959501702695, 0.0033172669734267118, 0.0014187066869150791, -0.0011374189640393833, -0.002330314311109895, -0.002163364767370517, 0.0034195758894837447, 0.002542490553356957, -0.0006796477291788686, 0.0024780859126916095, 0.0003814144288274645, 0.006637701569771056, 0.0029140479794366597, 0.00012097633390389007, -0.004138946271564352, -0.0021777228306717206, -0.0013337206344228893, 0.0029169173578474997, -0.0003439415669045237, 0.0007859298483659269, -0.0062743458883398676, -0.004865196713086519, 8.323530230926895e-05, -0.00019736199705580604, -0.006109239245649725, -0.0012390478808144466, -0.0016139806578156553, 0.0035642974373490486, -0.0007834136728024493, -0.004059438327244418, 0.003075223631215915, 0.002945899535820893, -0.003672550266871388, 0.002902718140901338, 0.00299519103555952, -0.0019404578529899578, -0.0016248657892358933, 0.006843787822793421, 0.0039397215092907, 0.0058494088701708385, -0.0010644966833185587, 0.0012506235312950385, 0.0002920371591750052, -0.00037395985501660406, -0.0010727501082155953, 0.0050122976764405865, 0.0018845416198282339, -0.003177358397121601, 0.002507703154265236, 0.002604543285998592, -0.0034714219171644127, 6.360350048855313e-05, 0.0016703303371032197, 0.003955657382796202, -0.000962463433826494, 0.001998397533335172, 0.00315356412871131, 0.0008345773007014407, 0.0105651591045154, 0.00044488295486297294, -0.001486882225978788, -0.0013964924263799462, 0.005380795231373154, -0.005333527910727859, -0.006452417238338004, 0.002380072899170428, -0.0009703050273096327, 0.0018930958779211351, 0.005202678042484771, -0.0002745804730953231, 0.004210975286508364, -0.0010556387191605473, 0.001697419217116027, 0.002065198620648301, 0.0005545238518293886, 0.0012229307514821921, -0.00034240297162755175, 0.0006155461606263141, -0.0027467686669222884, 0.003828597669791954, 0.0013288475930248924, 0.0054074905534540925, 0.0029807919210743505, -0.002442815478261957, 0.00200895666800289, -0.004817895920307975, 0.0034607728496080393, -0.0015658045311564067, 0.0014838622952977791, -0.0010290569584437046, -0.0029934778690955486, -0.0010382478158997375, -0.006225070027369384, -0.00219735272843896, -0.002431711094206512, -0.0004069211896333329, 0.005062158751145476, -0.0033949186836588173, 0.002914241206655597, 0.004018409516508604, -0.0021349839087231523, -0.0009683630849541881, -0.00400193195522206, -0.003775705811102169, 0.000890415223316161, 0.002635875286567108, -0.0007022764476676503, 0.0019054730096585981, -0.006661001857494228, 0.002791913771681814, 0.00456731488903056, -0.005261610918964564, 0.0002561747527713038, -0.002190610242467951, 0.000603468542509106, 0.002876069128668241, 0.0015430739993794523, -0.0004577286476669211, -0.001012885811285764, 0.0015751080109250104, 0.00040400475480789903, -0.0034061857586153658, -0.0005997835449027353, -0.003928463250752565, -0.0008627404014096788, 0.0033956776619117543, 0.004390282095706077, -0.0036550422545872634, -0.00042433542820527297, -0.0015305164650012883, 0.0009183563346653132, -0.0016068168732163773, -0.007797545419150283, 0.0007363356445201884, -0.0009297611840109045, 0.0002910365778266979, -0.003505762508072413, 0.002811666231475515, -0.0024330168442978136, 0.004137639406261178, -0.001973105173650515, -0.00047086689984824443, 0.0023671307632041998, 0.004588969155785803, 0.0002863031090490939, -0.0009631355914653398, 0.002950832740751414, -0.0005406933748040338, -0.0012804880287955482, 0.00044232711639512223, -0.004122919439289073, -0.0032425708408080917, -0.003653721537568551]\n",
            "warsquot : [-6.824351066769818e-05, -3.087425763108158e-05, 0.0001708416106882757, 0.00014562192873472657, 9.926332114233716e-05, -0.00016192494026795456, -7.072569534888329e-06, -0.00027826258715074603, 9.788466533528634e-05, -6.580002158327117e-05, 0.0002677847049706375, -6.577898621844269e-05, -8.765827475805399e-05, -8.357040223951756e-05, -8.58703598900193e-06, -8.450428654098452e-06, 0.0004117615230651295, -0.00031006313655575213, -0.00023757103928563617, 2.4591523571693835e-05, -0.00024090711092493097, -2.586272149723498e-05, 6.816102144011505e-05, -0.00011901194555853471, 0.00011879127380105131, 0.00019915287932192405, 3.32188094846822e-05, 7.121339125247105e-05, 1.0039347286402642e-05, 2.7373645761938738e-05, 0.00010636562909131699, 0.00013154732004632373, -6.99683234336617e-05, -7.421755303855149e-05, -7.553631681492907e-06, 7.873955260176944e-05, -0.0003497053231063911, -8.961489593164052e-05, -9.158934575064295e-05, 0.00021302459539041842, -0.0003056904125409718, -0.00014286858148069778, -0.00010454075339044397, -0.00013993372493087755, 7.773270309593657e-05, 0.00013489480883376384, -3.8229089266705006e-05, 0.0004838143113582577, 2.3798336839768106e-05, 5.170964618839277e-05, 0.00014178480681895003, 4.634497658884476e-05, -0.0006951547657802785, 0.0009602545915839565, -0.00020613711500418967, -0.0003106700835830787, -0.00022192190829043866, 0.000515748233079559, 0.0009358870287738755, 0.00033898128325007826, -5.516206063024354e-05, -0.0005767138985003762, -0.000252853600680978, 0.0001421220367030778, -0.0004296160042238811, 0.0006137959813838981, 0.0004648361584462836, -0.0005447546628351164, -0.0004510844525737884, -6.17334489650418e-05, 0.00044002071473605, -0.0003092498163316422, 0.0004946720633437231, 0.0003153479121018009, 4.8805458413535285e-06, 4.171913051560436e-05, -0.00012495355133058418, -4.4601424347702825e-05, 0.00015976400393976535, -0.0002901065730177097, 0.00010901871994380965, -0.00022770299352607975, 0.000407472413771804, -0.0004293130507278947, -9.685026207395357e-06, 2.2188337343884243e-06, -0.00022904125857116462, 0.00014522384260329778, 0.00034373652554338515, -2.497987929544034e-05, -8.33975361427576e-05, -3.8594451081761655e-06, -0.00043386050889668813, 0.00016408678900576646, 8.838068050671596e-06, 0.00019447313602809387, 3.862619750806106e-05, -0.0006367498661503795, 0.0007389206171578696, -0.0009931747976075819, 8.044281937479025e-06, -0.0007737567737871719, -0.0007649253172313211, 0.0005557312811170102, 0.001101800511793538, 0.0009297006732116716, -0.0002116618091516937, -0.0002974042509655792, 0.0004212593848015693, 9.649320165848636e-05, -0.0001710450057028634, -0.0003781196304496687, -3.64473153930706e-05, 0.0007715084965895002, 0.0005904212106899692, 0.0004188735436871959, -0.00042903139653754745, -3.971960563430759e-05, -0.0009105546590005252, 0.00013480984198072782, -0.0002588941054828828, -6.181039450375934e-05, -0.0003745086605692848, 6.50906866617694e-06, 0.00016882044104259315, -3.503244546234491e-05, -0.0003312292267523345, 7.3687102956424e-06, 0.00013657186544508684, 0.00017813109996013717, -8.78634147001428e-05, -0.0004309218640354901, 0.00033724002434943343, 0.00040819751710923164, -0.00015189571674262595, -0.00010368691496945911, 0.0003956896317476571, 2.038602405908009e-05, -4.479009252321073e-06, -0.0003203458420450965, -0.0004802751941783562, 0.00020398609770838822, -0.00043868555362477804, -0.0010499104931797048, 0.00031295467728827304, -5.069293879061688e-05, -0.00019431971410729379, -0.0004464825965300017, -0.000662020232447168, -0.0006124747905629792, 0.0012622814951457097, -0.0008701750655076639, 0.00036600493711186864, 7.537228375928233e-05, -0.00035839766688499156, -0.0009082075113679344, 0.0006766417045081163, 0.00041334064001682935, -0.0002041593428291008, -6.0850584940944086e-05, 0.00037626439070275386, -0.0005604659346842384, -0.0002837935413541213, 0.0009168061999710085, 0.0003420047805596366, 0.00010197435763010469, -0.00029953322716996084, -0.0001636633361691486, -0.00019050716356777252, -0.0003368509492927644, 8.875330063704868e-05, -0.0007636903395648719, 0.00020362092884898455, 0.0002604724159295784, 0.0015484764907658312, -0.0009132743637713593, -0.00024249943209890676, -0.0013150105197489957, -0.0002479921518775659, 0.0001606320019038772, -0.0008324788666251044, -0.0006595519955965648, 0.00030615530836896774, -2.1151900669340827e-05, 2.4782683932040445e-05, 0.00027077044066271816, 0.0003975138330941262, -0.0007210493917518017, -0.000710857185978628, 6.183567306455341e-05, -0.0001129682415059543, -0.0011979551255265862, -0.0002841133243968851, 0.00048449327403368497, 0.000549114829128337, 0.0008075487928458707, 0.0006543045789765157, -0.0007207496042347288, 0.00027539365936093594, -0.0007197881723467539, -0.0011221403267310608, 0.0004270123916677673, 0.0008511036240956456, 0.0010274906633683228, -0.00043468583322541084, -0.0009186258941532846, -0.0009163008011850899, 0.0003363375055032078, -0.0016057745997370729, 0.00025452450037046024, 0.0004549895270130437, -0.0016145360299013051, -0.00034874550045698414, 0.001916895218632201, -0.0008186968549540967, -0.00023801826277533274, 0.00023638542224761836, 0.0002447158649129342, -0.000766685106370818, 0.0012236021724909643, 0.0005739692167923338, -0.0004581243444777705, 0.001409194600960407, -0.0023404362251581556, 0.002900754921499266, 7.406001298348671e-05, -0.0006121040378235954, -0.001963259551551643, 0.0005713865902972646, -0.0014148502635931422, -0.001723586948254405, 3.751292206022891e-05, 0.00027984276291896475, -0.0014896821242807393, -0.00010901653603365646, 0.0011942294944080815, -0.0006360599258850976, 0.001933785047222832, -6.134524476192598e-05, -0.001136791003846618, 0.00040017637072787453, 0.0009792167707475437, -0.0007424301579072928, 0.0003824098225888037, 0.00163879045725559, -0.002178900781050269, 0.0038512004523134843, 0.00036737646340475856, 0.00123128547793462, -0.0008096335238401103, 0.0006480431524594939, 0.0005226203111304614, 0.001639980376354538, 9.718791588229176e-05, -0.00022235409609479555, -0.00023037163392252823, -3.575610157330821e-05, -0.0006514211257982916, 0.0007938704182855498, -0.0011836548985364019, -1.872574819246093e-05, -0.0003538689501188365, 0.00032300295122111725, -0.0005579689913031544, -0.000511163403876639, -0.00022041904166237745, 0.0005185828750159808, -0.000419405042019426, -0.0011804374260520924, 0.0003837007746273803, -0.00013733752038533472, 0.0005073556435005349, -0.0001655075382432838, -0.0002364578818642338, 0.0016012364300279818, -0.0005154473772648379, -1.5584231749379146e-05, -0.0007671009115436026, -7.60621057702849e-05, -1.739070877398172e-05, -0.00041261984239617487, 0.0011187624030934687, -0.0008387793691282359, -6.366384230598911e-05, -0.0011367787891017923, -0.00029948945899304757, -0.000802958658297737, 0.001695452921151678, -0.0002111185680438478, -0.0007336180682642416, 0.00012407433514998855, 0.0009162372172788251, 0.0026179360048430404, 0.0011438521883835565, 0.0007508123846152407, -0.0014412975030754314, 0.0009477375623995485, 0.00034685120460587046, 0.0015922484175741125, 0.002164704965725397, 0.0004134411125825861, 0.0004560188921228999, -0.0007233226956972361, 0.0007182948943318212, -0.0014532837033098657, -0.002217078569074834, 0.0009679648916787777, 0.0017270787089088174, 0.00011227837325533327, -0.00024036510899416198, -0.0005734675856582424, -0.0005632987220351477, -0.0009311156045457908, 0.00016428445826271358, 0.0004976368040757653, -0.0004674385785511123, 0.000145169629754508, -0.000691460099149473, 0.0004326011169164968, -0.0013129449147254914, -0.00101908942250312, 0.0007207735765322708, 0.00036069362601472556, 0.0009448467307167042, 0.0012378862282816198, -0.0008932236448855073, 0.0007868376901166278, -0.0002210552199545992, -0.00082382659223541, -0.00019580111435057654, -0.0013123193996291325, 0.0002482246169220998, -0.0006923358476823467, 0.0008253462074449389, -0.0004954043370182411, 0.0003076527030808837, -0.0001844132367938107, -0.0008294026972424555, -0.0013021572776396222, -0.000949771921633026, -0.001530426908311134, -0.0014674629499525178, 0.0007173878453709693, 0.0010871166331121091, -0.0006182715219348156, 0.0012631350046771348, 0.0003322352652938218, 4.603844738194484e-05, -0.00022727133131223917, 0.0005568968664892496, -0.00017920910523347693, -0.0005712903881907655, -0.0007448071570883737, -0.00037082637850640796, 0.0009352613356950638, -0.0001781112496342368, 0.0005286861482372869, -0.0001212479473606835, -0.0018073043698769642, -0.00020921619468038284, 0.001224071385586628, -0.0010317506595947398, -0.0006784191660375858, -0.00026936362249485937, -0.0007044344569660684, -7.557138526549656e-05, 0.0008176303447939848, 0.0013753777717098064, -0.0002827796469400956, 0.0004456428973714546, -0.0008282213689357557, -0.0018020287346394923, 0.0008531849914375214, 0.0012013807370475455, -0.0005623749496155885, -0.0005532207435543241, 0.0012156944508635555, -0.00038302914130009056, -0.00021203955168310048, 0.0007918510761681335, 0.0008376955679050783, 0.00022923601830739042, -0.001853986508987401, -0.0004372668973619889, 0.00038701656772230364, -0.002283329135075905, 0.00015741186557555274, -0.0013184532022936903, -0.0005187656558980486, -0.0013690085905907093, 0.0021507439818102886, 0.0008216037916115959, 0.0011403053691389827, -0.0001252060346384684, 0.0018184216607152349, -9.50653393363872e-05, 0.003356053022902244, -0.0014441549352540543, 0.001485837543579737, -0.0015315021292005527, -0.000597226211453159, -0.0003455087008706493, 0.00041245197725011274, -0.0016536133893046128, 0.0017027204150648827, 0.00036373017378054, 0.0012486239816251153, 0.0007378190355752951, 0.0009986959552499043, -0.0019376055280514296, 0.0005863883772680434, -0.0008981542164294026, 0.0011453718186165709, 0.0007042782143565421, -0.0008816899308968793, 0.0008658590841824189, 0.0011429859391655763, -0.000570169505907837, -0.000544030809047016, -0.0007240217126488879, 0.001403213329753703, 0.0007402291475009418, -0.002421146795896465, 0.0008661179900721367, 3.495733281812935e-05, 0.00122399701381059, -0.0006779611720088563, 0.0010636640880362352, 0.0019069669612246563, 0.0007238678769240915, -0.0010007473343327904, -0.0004947964500090184, -0.002262455934216292, -0.0017780140856713186, 0.0012414413587942263, -0.0007826370050465257, 0.0014335122525403125, 0.0004106982565563358, -0.0002367294080023747, -0.0008508843568456863, -0.001107370277329189, 0.00016302286744266335, -0.0010080216190325167, 0.001230566469804014, -0.0031499590301045668, 9.434575573510906e-05, 1.2009030069862724e-05, 0.0014364150259501183, -0.0005241153102393589, -0.002058460805917841, 0.0003918592771057104, -0.0007941841313126845, -0.0033774464304116916, -0.0006296710470318836, 0.00036191551476885426, -0.0022365828631696416, 0.00023419786404797315, 0.0005681082545032409, -0.0003286120324489869, -0.0005387468680340683, 0.0007751614228765549, -0.003121960866491023, -0.0008466370343331066, -0.0025596227548104295, -0.004175855105849672, 0.0019931631877197777, 9.434855702559163e-05, 0.0002810948076651387, -0.0022979307453098487, -0.0022385802093875763, 0.002724513289481449, -0.0009912996891005533, 0.0035327820433903633, 0.00035617441168434016, -0.0010844646262266498, -0.0006995874330803092, 0.0007451585163664697, 0.0022049225901772246, -0.00850202165511344, -0.0005874590502761615, 0.00027424808223028193, 0.001308707879996672, -0.0005313334139107426, -0.0032731655332170866, 0.0057078340660119044, -0.004733502379640498, -0.0006515877484311117, 0.010423875989047874, -0.000144329223233722, -0.0006483213397504009, 0.00042782638281759974, 0.0014291216772132076, -0.002379591616733302, -0.002220371205991864, -0.00482024381372834, 0.0027558844167111735, 0.0001829827727960337, 0.0006507570398400193, 0.0027289518665071476, 0.00603387237221265, 0.0010561312188577358, -0.0009882455093657046, -0.001638937597507776, -0.0019357730707515019, -0.010561590948294688, 0.0011449914869651728, 0.0009606222983741921, -0.004719551176586241, -0.0009590322904889422, 0.003988546060485416, 0.0023880154267625076, 0.0005748687798177096, 0.0028951066601241556, -0.005285312064212122, -0.0025500959335714897, 0.00825373801038453, 0.0009492496439545443, -0.0029649266503540502, -5.018741313184312e-05, 0.0008744789642540444, 0.0025589247889673933, -0.0004091695881562954, 0.0013597100857659639, 0.006396590128615294, -0.0019372527336505019, 0.001201854135994591, -0.002426761053097857, 0.0013060625477272925, -0.003270822043661005, -0.0022546918391156373, -0.0004566467686116574, 0.004277410481410138, 0.0032707024882582536, 0.0064830443951199145, -0.011597853463331777, -0.0018859332390200548, 0.0013517615567256213, -0.0007267477177236564, 0.001260966903418351, 0.0018196689730825117, 0.00030430771605697605, 0.0029721690634832328, 0.0038481480573309707, -0.0014493040177048881, 0.0037477714054769216, -0.0007973773490793715, 0.0029069014173330153, 0.00196280766355544, -0.009289500501239362, 0.00039991952725086655, 0.0004948662642946186, 0.000432113642565549, 0.0026748614361644255, -0.0014998142267889873, -0.005394373436910683, 0.005166848635810763, 0.0007815447578683116, -0.003051048054638774, 0.0015267811333469564, 0.0025890383200491305, 0.0036718213939270026, 0.0020642126980833586, 4.1197056610663835e-06, -0.006254232380742666, -0.0019759139349044864, 0.0028991039645583708, -0.001399051401058683, 0.0017827863838072522, -0.001301432757731676, 0.006154971669845548, -0.0008168468556166058, -0.003345635742900699, -0.0025176853858031828, 0.0007117584772096445, -0.003752353558509218, -0.0003797405166166036, -0.0028433233013090407, 0.006547196483145003, -0.0028757723183188465, -0.00507754299395185, 0.002064760037824823, 0.0002462355657143082, -0.002780202299089797, -0.002429542673427992, -0.0033728482087247683, 0.00026308083638899903, 0.0015792896690852284, -0.0009919528460518856, -0.0027481754565963305, -0.0017651583542738379, -0.0010916726850046436, -0.003010049428369783, -0.004119752541485491, 0.001078005407222896, -0.003123088757862582, -0.0014781493666673998, -0.00384425431830392, -0.00108398317177422, 0.0009937129508494481, 0.007260880295201624, -0.0014193780283855914, -0.0009162690561707303, -0.0015568964393517775, 0.0006324427457964745, 0.00010965507474067476, 0.0007137438464686237, -0.0017313450050468761, -0.001958775066850261, -0.002782363674692107, -0.001369006922884785, -0.003317421368312736, 0.0037580649897876097, 0.0015671220791185258, -0.0041258632782931685, 0.000825649772103928, 0.002109280284756796, -0.0021193812617730547, 0.00021493208192199928, 0.0005511919705723312, 0.0025753153875905698, -0.0005498983839889754, -0.002174257249729234, 0.0021871400509681158, -0.0029614014015467583, 0.002937841767952057, 0.0012072042865375896, -0.0017942422227439827, -0.004608817768286786, -0.0022127273995548166, 0.006320568192155021, 6.261846810811517e-05, 0.0006772458247746313, -0.001693497063105292, 0.00021576288697130498, 0.0019012767162749924, 0.0022756808498475313, -0.002302143766112474, 0.0005856470757887016, 0.0011711340892538238, -0.001337689960330169, 0.0032251122217778956, -0.0010447722281569857, -0.0008781781348851689, -2.1929802208785903e-05, -0.0021807297580459057, 0.0008218501033187904, -0.0019745239893237377, -0.004176455318250841, 0.002176636053725688, -0.0015142521879913922, 0.0023155712896066705, -0.00036605908518912676, -0.0009088923307478108, 0.005008828957289312, -0.005639478349338665, -0.003933821298558512, 0.002125983243492795, 0.0027853915023194247, -0.0030982136127518873, 0.0020686157717413867, 0.003786086596808739, 0.0019030970787889765, 0.003961173953260226, 0.00048317462981004077, 0.004409169629972471, 0.0028724283202247935, -0.00019928886634552542, 0.0026849223727353176, -0.004370057429032062, -0.001274737125338528, -0.002132146570138789, 6.45152752051857e-05, 0.0033198752582516058, -0.0014696810599597453, 0.000574013057213066, -0.0011841366456373363, -0.0005428993363610472, 0.0018913282551441413, 0.0007749323554116687, -0.002921504635246121, -0.0013999726687474907, -0.007580846194742046, 0.003324469682005649, 0.0005512380856109787, 0.003149987681387064, -0.0035739625043870755, 0.0018660179035722355, 0.005740268055277369, 0.004534582591578688, -0.0037292155416621814, 0.0019440580074390357, -0.0005748439986750769, -0.002168187450629533, 0.0035850596105833194, 0.0067536498899008375, -0.001397100438277809, 0.0014886089371588364, -0.0058075236415882775, 0.000913644592089694, 0.002806362323759177, -0.004349629445607406, -0.00048715458439563264, 0.0029601842244319602, -0.004443077432600697, -0.0037285007419802195, -0.008208027165269399, 0.0002772508408146685, -0.002374415472646417, 0.004380028044391207, 0.0020296569877320484, 0.0020914095728343986, -0.005690423687780543, 0.00876084304278133, 0.0013605953175196148, 0.006948741570524832, 0.0052244067083340425, -0.0048099440009945925, 0.0009180263736855488, -0.0006476029441754758, -0.004248698294943608, -0.0033788872409079396, -0.004327900435479071, 0.0019541317111674405, -0.001289312000583259, -0.003849357660005233, 0.0006233544822666125, -0.0006853582946501416, -0.0019154208483245228, -0.0039375836515595265, 0.004163727823377111, 0.0006905233158566986, 0.001958766851430784, -8.594864624771303e-05, 0.0026703726093625954, -0.0006575620656751168, -0.0011618356903633064, 0.00464434268486243, 0.006766530270564303, -0.0006916090949266769, -0.004473235322140185, 0.004109243121550251, 0.00434771983688375, -0.0011623759270196835, 0.004163338911913183, -0.0010699973039472793, -0.005440330766777436, 0.0026774597094439325, -0.0008698202954981553, -0.0021805569381257942, -0.008599580308050617, -0.007857456724845942, 0.004040416019109035, 0.0033498441584102513, -0.003431404098697412, -0.0021310078878162483, -0.0015687011599180584, -0.005454883787811497, -0.00017816381815352784, 0.0021037824499938462, 0.0019409506220590097, 0.006063983952948125, 0.005277544662332393, -0.002669229073175042, -0.00030095556279718244, 0.0033918349744683986, -0.002701218774544111, 0.007477804034175455, 0.000721276624116864, -0.004158345689731113, 0.0024202419621486733, -0.0012273162414731678, 0.002162221611491459, -0.005471174592478498, -0.008270521659552776, 0.003866209709650548, -0.0031017307297969126, 0.00256000139478929, 0.0020989449567459014, -0.008115635729882761, 0.005980848108032829, 0.008608662956660797, 0.005954549674472065, -0.006313711388015307, -0.012079422698520421, 0.004828081587574981, -0.007390224193757986, 0.005978582078561993, -0.006357282222701462, 0.0019558511013399093, -0.0002567500397482269, -0.0019909131083965734, 0.009121287889921838, 0.008560961243278544, -0.0008473120239438784, 0.00575405225776107, 0.006721321390906743, -0.004412244980258126, 0.003311265134263866, 0.00287486893122904, 0.006838113645362791, 0.004649836147787696, 0.0006353877692037405, 0.010156558627757866, 4.1002350952039184e-05, -0.00972550036741366, -0.0008421917507881187, 0.004711103792813151, -0.003839895281558357, -0.006701305176803946, -0.006343574123131711, 0.003911254198213637, 0.0045211922433975454, -0.007793847669050985, -0.00035752828641171094, -0.007119296753327265, -0.002743542324127936, -0.0022004891408054427, 0.00028769894570645875, -0.003919678298747752, 0.003764601305434041, -0.0009678722136077472, -0.005805934285082408, 0.000889015278898269, 0.001961740993935639, 0.011433671307221175, -0.007721538390797249, 0.002807600417241478, 0.0028573827280713574, 0.0015563023905736258, 0.008424623148467533, 0.0019701521426811466, 0.006385952841273648, 0.0029432089916621006, 0.0037136246729348663, -0.006722433566911715, 0.006962676469587898, -0.0065342613481215684, -5.35015645192153e-05, -0.006817214962500821, -0.010171369047565715, 0.007709370488752655, 0.004742872104561517, 0.0022399821420415605, -0.003528832139821532, -0.0010704699894789112, 0.008058195924003595, 0.0070118627644563105, -0.0066529638917945605, -0.002435086511749387, 0.015338620504223893, -0.0060756171662706485, 0.00044050193079608543, 0.004326846714657573, -0.009490778981867733, 0.012486727129599435, 0.014157937423034294, 0.0017485748095911234, -0.015222061849227812, 0.009827268811534812, 0.009607682515256784, 0.0021469057806915194, 0.011559470942694449, 0.009487680000328739, -0.004653176517514327, 0.0008412746239654587, -0.001174658594211942, 0.0022148732019351054, -0.00597522824721973, -0.007945225870210255, -0.002715369271877654, -0.008594829327375979, -0.007216490054885977, 0.004993258868473771, 0.0009524511085632695, 0.008623947119349232, 0.0030572517196364455, 0.005514273872646877, -0.0037621301964638858, -0.011281615471426625, -0.005474230398534098, -0.010400489015450421, -0.009808342480008453, -0.0036469700908097376, -0.012786684672146139, -0.009254860933069781, -0.00294338963614957, 0.006247263525731156, 0.007088700233067046, 0.008396954104305665, 0.001264676499454952, -0.011918005643320212, -0.0035886320104584666, 0.0005578838863323377, 0.0001055262291480407, 0.011748566615970861, 0.004843328590394576, -0.008817031090608623, 0.0041503898420381016, 0.0038301571773500264, -0.0055888289848926055, -0.016717116115309107, -0.008113949816849002, -0.00032707376917552426, -0.002935035952318893, -0.0034223479593001923, 0.008057753593613687, 0.005553318020255377, 0.009748901717651663, 0.00029167288200194173, 0.007851758821292434, 0.0014150661765321409, -0.0041160502071565415, -0.0033613219624637923, 0.004030641533662166, 0.0031589944146249212, 0.009112231960560931, -0.003485487754298629, -0.011273331029545962, 0.008832913335246063, 0.006336510967401781, 0.0018491593560924632, -0.009556634374003743, 0.005968282066991234, 0.0028253998866557893, -0.011108829865959725, 0.008039950946214791, 0.003736090680378809, -0.009347610131764984, 0.0012070452268491284, -0.01441460554799331, 0.0059796181256477066, -0.009566993087526808, -0.003776415858928135, 0.00677401129894715, -0.001854325481617511, -0.001879755460102472, 0.007946280148901658, -0.007310837401270233, -0.0013368160990443211, 0.004949791296648225, -0.00014401443506935254, -0.012556832878529722, -0.0018941607168292522, -0.017670279174205758, 0.009903660710420764, 0.0033592485144189194, 0.0013200069163712812, -0.001301380251340605, -0.0004477546628179354, -0.0014659371067904832, -0.011309762853194325, -0.01900748431692586, 0.016081683487507843, 0.0006199220605720356, 0.01966084877108284, -0.0065049640473457855, -0.0017884948777888493, 0.020110943299905426, 0.0010686703652032867, 0.005374908693976964, -0.0038535855873642264, -0.003103433012257689, -0.008927633579101564, 0.0033614514303555725, -0.0020592412535443967, -0.015635037117470312, -0.00403924268749833, -0.012769866911570107, 0.002727250521718026, -0.010200062574770902, 0.007101067365689082, 0.0008963385189370084, -0.0026659409268470413, -0.017685045251669973, 0.007685413328412806, -0.0032615534929248315, -0.009394243760163165, -0.0029103544758785783, 0.006527983782773612, -0.00014440502702829303, 0.008167831384601603, -0.0037667045880934494, -0.002267299730578523, -0.010411929938404684, 0.004804314348941543, -0.007448142480634718, 0.01006447730819913, -0.0043473222476435175, 0.020916649639138536, -0.0052440511093055555, -0.013505695638701961, -0.000871657838578108, -0.0024598847622300498, 0.002897525832386675, 0.00582239061223119, -0.0009066872598486142, -0.008830788998355148, 0.003634173467056091, -0.005159810276479335, 0.00846312721845584]\n",
            "inconsistent : [-4.3379350970707e-05, -4.178800031018337e-05, 6.364662500085716e-05, 8.676858849648861e-05, -1.635953394568679e-05, 9.649170040759714e-05, -8.507244626328875e-05, -0.00014132305733646766, -3.6364039744794796e-05, 1.651678661167104e-05, -5.639599236535644e-05, -6.269940096211317e-05, -8.61946431066074e-06, 3.907406628015503e-05, -1.0910774523944589e-05, 1.0793635467423734e-05, 9.547881544100245e-05, 7.179015607499534e-05, -0.00012292682722814773, -7.2975620918581605e-06, 6.681222642306896e-05, -0.0001485744422947497, -0.00012718050738425154, -2.4620748097629354e-06, 0.00017281352260696894, 0.00018614050456183372, -0.00015617361934951515, 6.262115800312546e-05, -3.782634302197966e-05, -4.071411634233124e-05, 4.606015370555577e-05, -0.00011914568620305019, 9.19766536641275e-05, -3.16795429144358e-05, 9.252694411020484e-05, -6.281199553456046e-05, -4.0145810541826477e-05, 0.0001543694679687264, -0.00015065344939023222, -0.00042659570018651477, 0.00047639462867473574, -0.0005246890825011119, -0.0005000501573118668, 0.0005315879109300745, 0.000275356102522713, -0.000542406243303848, 0.00032335017453635935, 0.0010577533277462796, 0.0013155987901042193, -0.0008445538032582412, 6.77260039407216e-05, -0.0008782997477895828, 0.00029711775184030134, 0.00021138956525996533, 0.00010158156827713444, 0.00044474391337652984, -0.0001586003558479176, -0.00017742719738864793, -0.0002483088001618769, -0.00016371105490571927, -0.0006314466590410421, 0.00024372118582758001, -0.00036428694978381075, -0.00023051949317164436, 2.62407445967912e-05, 0.0008318916405536288, -0.00023698667348162096, -7.446524617575265e-05, -7.383782365337835e-05, -7.091205282749695e-05, -0.00029483411287151585, -4.470595595932117e-05, 4.610130881849115e-05, 0.00013617132004802718, 9.876538380265698e-05, -0.00018724720564149318, -1.1362611717648761e-05, 0.00034926143809938665, 0.00011836480582853555, 0.00015261594819786402, 0.00030704584372068353, 0.00015373214453882336, 0.0002399162206870543, -8.911992159695015e-07, -0.0002611469783335568, -0.000140112594645309, 0.0001632636523011509, -0.00013056583221823098, -0.00022855336147567865, -4.575488917394656e-05, -0.000496837330643176, 0.00018971084338125117, 0.00020522841214569085, 9.901751024963363e-05, -0.0004801748473299127, 0.0008491250968379396, 0.00011556202551021941, 0.0002118942729932051, -0.0003004341308746783, 0.0007166164621731728, -0.000153827627960618, 0.00030467040446622694, -0.0008488942479958255, -0.00105396250940376, 0.00102571318310502, 0.001158556339083878, -0.00013627244269982623, -0.0013422118775178956, -0.0003283322522179225, -2.7801779284783446e-05, 0.0007964081893055003, -9.40401057396888e-05, 3.684251716393476e-05, -0.0005790271282029432, -0.0005775231786786534, -0.00043211238048464435, -0.0013057475985697228, -0.00017700834723092694, -0.0010465087616329648, -0.00037684932962484853, -0.0013002829905301517, 8.390271177718955e-05, -0.0005543239529787237, -0.000253835508718752, -9.64842072103669e-05, -0.0002757145766129152, -0.00040175777737225943, 0.0007970608551390581, 0.0002388199789086215, -0.0004645607433328789, -5.586550966451935e-05, 0.0010160599050076376, 7.340859005187548e-05, 0.0001017987742689306, 0.00014969661641234928, 0.00033492462771997225, 0.0004750624894102294, 0.0003250255201156316, 0.0002883412681000067, -0.0015114677843525593, -0.0007378199008448482, 0.00010131775830782481, -0.00012842624078815684, -0.0006008314780524739, -0.0010986989918936629, 0.00017356143071783008, -0.0008295002934375559, 0.0001681069833141958, -0.00014166860994803757, -0.0001232530961362971, -0.0007513673827151922, 0.0005225878808156714, -0.0008449673636059104, -0.0010226658562162358, -0.0005977353938382102, -0.00139702427683725, -0.00020655440730205435, -0.0011525922259261138, 0.0006440888100320216, 0.00040751564842960494, 0.00039860252757884895, -0.0005998217012257055, 0.0009808001859153105, -0.000617074850765998, -0.0018845745725730254, -0.0014094093868253703, 0.0009619924450777991, -0.0007995389547556311, -0.00010973057518914517, 0.00047272552487426407, 0.0013957347247911837, -0.0004948346704386833, -0.000324093907375418, 0.00010025523482331926, 1.5339486914393852e-05, 0.0005115010225379495, -0.0005465079304844203, -0.000419921595315665, 0.0012046777428468833, -0.0007862473197383889, -0.000767736658736454, -0.0005569604344851826, -0.0008493595484114847, 0.0002635001600611465, 0.0014831559642511788, -0.0008796080588652638, 0.0014807106057620712, -0.0009552642794989396, 0.00236801873470529, -0.00031151648842009903, -0.001094831466429953, 0.0009558799051896695, -0.000924031433847936, -0.00030790608635247784, 0.000981564136982367, -0.00010554787422432693, 0.00024408511176027617, -0.0009181701362197935, 0.00042347619951406553, -0.0003761479184335847, -0.0017007257349729522, -0.0017673240557535802, 0.0003462795779068852, 0.0017060917642741317, -0.000585482790471452, -0.0010780977078581628, 0.0021842058282687156, -0.0006753430929075464, 0.001714815269152177, -0.0016463579827844053, -0.0008010685049147578, -0.0007050380815154574, 0.000163600017760673, -0.0010793825403968547, 4.9656026114449904e-05, 0.0015372449747963288, 0.0016052253951947936, 0.0004620134425335886, -0.0006361842662606196, 0.00014566750459405766, 0.0005981365541755271, 0.0005542140393854473, -0.0005527025346916774, -0.0003060831720940408, -0.0012134120345282575, 0.0012982309355028883, -0.00029464190652944526, 0.0028107781659041987, 2.2137430511489286e-05, 0.0006130784514363766, 0.0014828694370202314, 0.0006095659899041044, 0.00015627242401896474, -0.00026387405401930193, 0.0003803418457751902, -0.001109190752771527, -0.00013755037722664213, -0.0008243648930862989, -6.849176942199699e-05, -0.0011048485756212558, 0.0016551028683709941, -0.0003860404900703721, -0.00018828925092089898, -0.0005345034123247091, 0.0012590074902158678, 0.0007280238217943422, -0.001786166571432513, -0.000179115965555165, -0.0016657157569994968, -0.0011474626732548784, 0.00043140976666860913, 0.0002565561203644849, 0.0007936446791762049, -9.786803224727915e-05, -0.0011995678745164487, 0.0015989182490429572, -0.001219077192594863, -0.0007881192586778668, -0.0020781656964096442, 0.0009981862948032446, 0.0005637377018689429, 0.0028120135695813638, 0.0011437254587163123, -0.0011457319451870338, -0.002881763700401215, 0.0004896626838243952, 0.0005580362391204723, -0.0015280625792914709, 0.0006493534096822726, 0.0010754377984758812, 0.0007435198157965181, 0.0002953938970305704, -9.088667488174395e-05, -0.0006696347756138402, -0.0013024803216265986, 0.0015505395896348306, 0.0005983102669109737, -0.0014942576789258423, 0.0006952250400829776, -0.001033299540701178, -0.00010952754741239698, -0.0008307304749421019, 9.839252090092292e-05, -0.0007806422670371578, -0.001978491251193584, 0.00033728375558474827, 0.001452866894946326, 9.536155812765778e-06, -0.0010577727592543879, 0.0009641289348622951, -0.0011398236715384675, 0.0006668040755020294, 0.0002499610023612899, -0.00015926350712043656, 0.0024262902754706387, 6.54168824845442e-05, 0.0013776701096253566, -0.0011049035528433028, 0.000259348063343128, -0.00012962436292242508, -0.00040041740181967836, 0.0015907472556711633, 0.0009603442190146724, -1.1646120997750803e-05, -0.0008136481479780614, -0.0002084726466796275, -0.0003382435727063444, -0.0013481201643616234, -0.000659704049068459, -0.001368149731062983, -0.00010945728592334368, -0.0006030446587928272, 0.0006292297060464828, 0.0013976560882340418, -0.0026129816905936356, 0.00046562330885177995, -0.001253653164520274, 0.0012883392530903823, 0.0005622064045200485, -0.0009576437667783373, -0.00013331578101244326, 0.000542845143513342, 0.0007559274361369883, -0.0003849336916638378, 0.0005178064267306664, 0.0007550046203358583, 2.1917242077661072e-05, -0.0013239131671001422, -0.0005956314176919838, 4.362297083218905e-05, -4.3053580098958814e-05, -0.001479541369729819, -0.0003216252807461996, 0.0001705134218520951, -0.0008385692704249888, 0.0012749869592244669, -0.0003059131865805831, -0.00033141532138409105, -0.0006550164784538395, -0.00026009507292941675, 0.0013586898311207078, -0.0005805462398039947, 0.00041747128231172975, 0.001256597353678909, -0.0005234889519019643, 0.0013945432373936545, 0.00011489665910167663, 0.0017995728152315046, 0.000700224343725857, 0.0019655556223918923, 0.0003210039731527791, -0.0007453484268424761, 0.0005750493646021222, -0.00011411540955943988, 0.0005841108664560098, -0.0012010756394402657, 0.0014420841442505396, -0.001158606378740758, -0.0017455536610183646, -0.0015583337769661879, 0.0009896060314975143, 0.0036424675836421415, -0.00020089653526353477, 0.0003491399396347789, 0.0012524926330620078, -0.0011932273595817574, 0.00042806056672874647, -2.0246267795186873e-05, 0.0011288445420790652, 0.00031532812748884416, 0.00023535928810925746, 0.00020998380412001576, -0.0006667537310497173, 0.0015776095307939268, 0.0012601820825183245, -0.0018468189215831285, -0.0012394108388408941, -0.0027150873126717584, -0.00025394815805296084, 0.0001683588957280737, -0.0008326142389318662, -0.0006062071182969793, 0.0007059610761501137, 0.0010020677891344303, -0.0018333358340596687, 0.001728493249414322, -0.0005486019440512201, 0.0005073896602964103, 0.001990337294371437, -0.00022564600635017443, -0.0036297803216014824, 0.00040314858412807044, 0.0012331572047178125, 0.0011742384306989775, 0.0004074169803820124, 0.0003090428927388488, 0.0015357510966181856, 0.001750010144196192, 0.0008599814656968501, 0.0007069530771446047, 0.0001085923921885822, 0.00021386415833975908, -0.0004594038019713354, -0.0007174088606188098, 0.0013028260020947115, 0.0007514336543488773, -0.0025522366904969316, 0.002034299981605027, 0.0004756059048454701, 0.000908394154865072, 0.0010480676229474694, 1.6145848625161857e-05, -0.0016225455636167563, -0.001806468352375185, -0.0013531601730716993, -0.0029181796926902696, -0.0014265319098874388, -0.0010263619510269117, 0.0007421481275455451, -0.0005878236881201532, -0.00021347511397692108, 0.0010498413920646378, 0.002830800645847588, -0.0002307300568512409, 0.0019817718392745507, 0.00021390179901629742, -0.0010931459871505109, 0.002690513840270619, 0.001228255366624373, 0.002164933163890408, -0.00023002728247098828, -0.0009564693479231084, 0.001069906373056936, -0.00043456077250896355, 0.0030614012042400485, -0.0009143809237304081, -0.0014214925661076205, -0.0028381190130179383, -0.00033772413157721285, 0.0007355064706093374, 0.0008618213947434276, 0.002898918588418787, -0.0002848371097384063, -0.0004279134454051158, 0.002107598719822077, -0.00012330073084202298, 0.0018212960298325427, 0.00458824833442152, -0.0004121920846017063, -0.002241255400958192, -0.001125757084744359, -0.0023855953799659935, 0.001416088036714466, 0.0003180398663654542, -0.00033309760937964405, -0.0018812973633206623, -0.0003925709095948717, 0.0019719455484452503, -0.001084015778983153, 0.0005612100534602635, -2.1502125129337947e-05, 0.0009901419765468294, -0.00071310362955422, 3.1896202472170114e-05, 0.0020520849687621096, -0.002584544873791728, -0.0017954561989746414, 0.002665673450975882, -0.0018543419144689795, 0.0007832111830761899, 0.0017657967719544448, 0.0012192144503610368, 0.001762800515459047, 0.000696764452023527, -0.002999736503054788, 0.0024838020857141964, 0.0002215125663336051, 0.0018950579577369762, -0.0011624522598484522, -0.0014199291421008232, 0.0011560784746055379, 0.0015173007505306525, -0.0013428749985417649, -0.001353113609694783, 0.0007079256356645053, 0.0003374129962369337, -0.0016170569587508434, 0.0018530391919219062, 0.0006776116786189068, -0.0001343299210580873, -0.00039099972703442003, 0.0012108112288486822, 0.001578751500541013, -0.0004069710948757339, 0.0003256900630996557, -0.004489361869133651, 0.001348767766411376, 0.00048590178169148634, 0.00218056070674481, 0.0013621481938941036, 0.004675508546764588, 0.002784183543590478, -0.00010976047408156435, -0.0017753792201164612, 0.0003800105796802587, 0.002529172526368475, 0.002279747178150944, -0.001049000555283759, -0.002091923541582495, -0.001845019026287982, 0.0026179829670353923, -0.00012733822773119963, -0.0011129638454209167, -0.002489394426715639, -0.0008446378741336427, 0.002818928222461336, 0.0005968232326526521, 0.004713184900571708, 4.821161498696721e-05, 0.0017383982242927531, 0.0009991863004056925, 0.000680130212243394, -0.0009230386072598788, -0.0002572735999777959, 0.00019606415453760247, -0.00013821454647929346, -0.0007411981241530006, 0.004393542452107659, 0.0018134962879151773, 0.0016265549608608125, 0.0020750103758216437, 0.002194407282794622, 0.001484843537543292, 0.0023622639500864018, 0.0008319907811882813, -0.0015011041693065875, -0.000505538557922465, 0.0013876994392407107, 0.0029355622826993024, 0.00045459215002334116, -3.3748533386303986e-05, 0.000946692993683728, 0.0016035447140448043, 0.0012561661916998118, 0.0002059290327666389, -0.0011008044617139548, 0.0003327947688407072, 0.0002750137314127647, 0.0042825326258489945, -0.005247700305912642, 0.0022472927569908733, -0.003377312039024376, -0.0014468868934014714, 0.0017579508709904181, -0.0015592363105293094, 0.0019279126401460962, -0.001456134742287277, -0.005246468791263521, -0.00013564491429280713, -2.0735119779594687e-05, 0.004216088141196568, 0.0001779763502996719, 0.003206824143201602, -0.0006287825258552056, 0.0019349139627414108, -0.0004692552702847847, 0.0006624122237408672, -0.0008864744990252672, -0.0022974013952968136, -0.000404206749476289, 0.0019644068955182482, 0.00214926501281075, -0.0009126786594593852, -0.00022020375593226078, -3.2016728490679835e-05, 0.004828656848448323, -0.0014523710205955765, -0.0021421043348670583, -0.0022251207274402926, -0.0012981586521905763, 0.0010143731297760556, 0.0026441096491829127, 0.0008258979893412087, -0.0005621395789495304, 0.0025403637706375983, 0.0014338618375226773, 0.0013649032149146807, 0.002924880391226046, -0.0004202169213401658, -0.0002031720190627277, 0.0011624406668309909, -0.0030123480777941025, -0.0012427420302262994, 0.002579681846433377, 0.00013596435440969314, 0.0018963867302248646, 0.002703174500757589, 0.003904590351987012, -0.002046129984881277, 0.003029931652390458, 0.0007649839125821786, 0.00171870179604852, -0.0004590889473974711, 0.004048344114252064, -0.005105573827877768, -0.0026525412005414806, 0.0002961130229845177, -0.0016328790863892207, 0.0032028671852502863, -0.002519965981632087, 0.001952661446582548, 0.0044789983610488415, -0.0036613610198047335, 0.0013218595022817569, 0.0016355525765792333, 0.00012651297843038864, -0.005177259692872636, -0.0026670417243404108, -0.00047787797239603287, -0.0015634266898976379, -0.00011151847579277455, 0.0029052165067957976, -2.932347043133228e-05, 0.0024299434457197024, 0.0005763465746833193, 0.00115445232109765, 0.0014834525895724288, 0.0002803250588062204, 0.0014741301657944846, -0.0027484839607200655, 0.0013522234596357856, 0.0020177266794386963, -0.0014324912632900162, 0.0008374079011771573, 0.001213719894192813, -0.003089432898644207, 0.0022579971329104815, 0.003891328975083163, -0.0030935210334911978, 0.003488631303235434, -0.00468492038333352, 0.0023321907345488363, -0.0007675967804898287, -0.0025233855318332298, 0.004909685428268718, -0.00027408594392973654, 0.0029501302545597552, -0.0006491321230854153, -0.0010795114020323662, 0.0005376428862120123, 0.003641512681878257, -0.0011010594206884673, 0.001660697491691448, -0.0008925118635163334, 0.006304515068566089, -0.0032517468029203767, -0.0006807152174723467, -0.0012658384818975098, 0.0026907382802940603, -0.0018981697951462946, 0.00031244804099475436, 0.0030200622048625965, -0.0003668672252985037, 8.422907049046666e-05, -0.004365642407012031, -0.004511352535271832, -0.0014776047064285307, 0.00030686474858357665, 0.0022719982694835925, -0.0003008203876731022, 0.0035704715514326317, -0.0009209970796520135, -0.0001438064435397568, -0.000591040340989145, -0.0036647890915859544, -0.005443861601536029, -0.0007003637537638038, 0.0007847042861318428, -0.003734533024801062, -0.001363803762193852, 0.0026243706268121933, -0.0006601313680311182, -0.005281916064496751, 0.00041377705961854376, 0.001892349520675254, -0.005721972075388658, -0.0007647164328292658, 0.0018357495441598086, 0.002740079771668468, 0.005140786574317506, -0.007036062024973511, -0.001316149172846383, -0.0002305472603343477, -0.0012003826542506474, -0.0020659012345176243, -0.0019806532160270597, 0.0020980125605955108, 0.0007852999543223336, 0.002278534988984962, 0.001524518967106283, -0.0007603356716581466, -0.003188942113654225, 0.002710774479479686, 0.0011583496616480397, -0.004493803686218531, 0.0034033130172448174, -0.004255423586018184, 0.002610344744463711, 0.0008753247081237649, 0.0010000137719292797, 0.002549753501283779, 0.001175152697885512, 0.003372646874183229, 0.0009563390067462377, -0.002401426573578688, 0.007848011792095145, 0.0036837688748769977, -4.553826773733005e-05, -0.00040009394570519625, 0.0010127722101238993, 0.0009325149459356668, -0.004144408733039055, 0.0018326478101676163, 0.0030432431913374205, 0.002922327556011535, 0.006903509298627713, 0.0008125268375160644, -0.0022812279043903823, -0.004180872630871005, 0.0037653193275858504, 0.0003551075382444476, 0.0003327219728893223, 0.005296762835894756, -0.00038440108671172453, 0.002660361401783512, 0.003845085173816598, 0.0007751718721286226, -0.00282204298902308, -0.0008504015672604181, -0.002067656180752613, -0.004771894400691078, 0.0009413686872712639, -0.001197392881674789, -0.0010190951813042822, -0.004762600023737772, 0.001339079287899437, 0.002180848061061753, 0.00024247415310517254, -0.00041272406951003635, -0.0018011564811009715, 0.002338997977778208, -0.0009175504657635996, -0.005937371516168899, -0.0037397702743128553, -0.0009819033211965963, -0.0034410786021279766, -0.0029705723437443293, -0.001405597193785365, -0.0019409015241996092, 0.002836383309129388, 0.0003755267002823583, -0.0031129251371890283, -0.001984979088913505, 0.004917091117367638, 0.0003005648499698568, -0.005855741470172001, 0.002693250308107209, -0.0023829478875092925, -0.002569993560178577, 0.0008898515670467486, 0.00019248069378803925, -0.0028998265958864104, 0.00020254269808041032, 0.0010262846735122101, 0.003681022134716248, -0.002814245829462627, -0.008102005936851833, 0.00034637417433834236, -0.0038045333551881624, -0.004802804955227024, -0.00023799692719662924, -0.00034812014642951125, -0.0007530085129041891, -0.0043925813916594475, -0.000445459339179167, 0.001149158006216264, 0.005244786338673643, 0.002674078366331269, 0.0006690562343863943, 0.0011478799337728321, -0.0033586179508381282, -0.0015929235504197302, -0.003045431087900565, -0.002235489411934945, -0.006024486724575733, 0.007162301581485838, -0.003403410764982095, 0.0022145839779377434, -0.0016099559153077703, 5.299910844505911e-05, -0.0018362459962165904, 0.002699056612197256, -0.003613955350314344, 0.0015300114944040225, 0.0003905111756884218, -0.0005378641698507883, -0.0019678470933402036, 0.003623784599656366, 0.00044271818703627355, -0.00041618332518857104, -0.0030218413212165472, 0.002995479623171036, -0.0023848953118819766, 0.002517483872314761, -0.0013035850120219155, -0.005505095786245145, -0.0022882976402667466, -0.003003336323706587, 0.0013179560848312708, -0.0011258327690614866, -0.0024029727163264783, -0.0009171170927192492, -0.0020199295975567508, -5.76571443285925e-05, 0.0010311204864857206, -0.003246741694231585, 0.000802706711257462, 0.0023728372364039407, 0.006264083846797754, -0.003766796938980269, -0.003751875202474016, -0.0005582804110588237, -0.003936662814019235, 0.001289670965233223, 0.0007330778353770261, -0.0009191737267690882, 0.0024443544043174776, -0.003396289305759562, -0.007626556526407969, 6.330331124383085e-05, -0.001744085051785878, 0.000947928138768748, -0.003348873254730727, -0.0028643401736995703, -0.0007764222494052262, -0.0028257861007340204, -0.0006501285442042353, 0.003197420776127285, 0.0019188745180287858, 0.0004623115234048238, 0.0004574743891013495, 0.001257182277196716, -0.00373888427462746, -0.0027037342669576254, -0.002518870971017502, -0.001579423544976132, -0.00012351977117452083, -0.0006716185239749358, 0.0014401008984281996, -0.003742172509765492, 0.004885850103262446, -0.0038232862128682807, 0.0011580254060779291, -0.001406900909116314, -0.0031897475526215975, -0.0004943794612996097, -0.0025523240428599768, 0.0003585598764468019, -0.00161073930012374, -0.002448119028127928, 0.0013421925868277746, 0.0022827075849226504, -0.000685536634798894, 0.0006240730426782036, -0.000787987352640818, -0.0008732009966866332, 0.0053804888477940425, 0.002859989207226828, 0.001907813191390076, -0.0015965206782912623, -0.0011273260025428822, 0.00140950842647233, -0.0017196204007499118, -0.0023032605003844636, 0.0025757762908243734, 0.00024208223905102313, 0.0010761375941439263, -0.0008326084248409175, -0.004925169413103718, 0.0017560823469581074, -0.007399640984190306, -0.00018919007950668866, -0.0007573785660935656, -0.0031965493000913146, -0.0005996072375976675, -0.0002984847978459177, -0.002714046713892709, 0.0011302616179719518, -0.002882026428982894, 0.006645980606163147, -0.004755494656229778, -0.00016431174306056695, 0.0017763008456069319, 0.008051572418877054, -0.005820209450621873, -0.004852663692595495, -0.0019074574473407558, 0.0020385767609039486, -0.0004200457513874995, -0.005316552232966272, 0.004675063295643522, 0.0005850478676874063, 0.0004155317221973239, 0.0007855099755739734, 0.0005436437204668389, -0.0002988528230770879, 0.0017777712906346017, 0.0005630105022461397, -0.0025563772000471536, 0.001262720156726398, 0.0004522711397198301, -0.004394215769040347, 0.003147733697400928, -0.0013107647352389139, -0.0011691935008843603, -0.0002443993818992355, -8.256583865370523e-05, 0.003408668456611584, 0.00352629385787763, -0.002033341244553355, -0.002115827072926702, -0.0018013842730671956, -0.0011011809240607118, 0.0042475427170879845, -0.002640380817506074, -0.0031123468588452725, -0.0022898012959553875, 0.0022823652390400575, 0.00021108097572147995, 0.0017575362339908272, 0.006987256481677776, -0.002181052627897838, 0.008194584962736732, 0.0022419341111256513, 0.002460059170313113, -0.0013025746301490232, -0.0008399523436142635, -0.0009160901930723503, -0.0018890956956298735, -0.00023693374383155878, -0.0003358471713787569, 0.0030186516496364725, 0.0001831123539827095, 0.0007453797015952194, 0.004929627922859748, 0.0027037862201751, 0.0028852089675905105, 0.0010731296236186402, -0.005143573384004233, 0.0015866531062697586, 0.001052889719604531, -0.00041829415733559186, 0.0001681673082882338, 0.001772148403964105, -0.000871868288530558, -0.004755014271390906, 0.0020396002728906666, -0.00042515761569536905, -0.0012912129210822564, -0.0005222995575099912, -7.73354489967109e-05, 0.0015767620878848337, 0.0007423157882103446, 0.00032000234371735645, 0.0005132458545023862, -0.0013368469555760805, 0.0004153911110098417, 0.002551947896775717, -0.003949632812176815, -0.002261209142043537, 0.002299094136904551, -0.0031652072066593287, 0.004426604380986947, -0.0009316088801562331, -0.003675680242246795, 0.0049725066855716045, -0.00588045721067448, 0.00158008722108882, 0.00012279453839055964, 0.0027142018276395223, 0.002395118454869791, -0.005695142547177241, 0.004770047155054432, -0.005160928099972827, 0.006806712407474338, -0.0070821122516216955, -0.002531509087484408, 0.00011940322479358882, -0.002638419262050719, -0.0058714030373982744]\n",
            "ensues : [-4.216466239210202e-05, -1.5805495911624945e-05, 2.5256930743788875e-05, -3.353535328820545e-06, 0.00011770101532027066, -2.3104505833371203e-05, 0.00010452683891581938, -2.89145596563678e-05, 5.363268371263996e-05, -0.00012056465469280006, -2.664798870278401e-05, -0.00012551814868192943, 8.169324764593401e-05, -0.0001646658370760847, 5.1649645899154195e-05, -8.159850692264297e-05, 0.00015600264588139755, -0.00012025294289282062, 0.00039460270344777483, 4.362494100879945e-07, 2.3273407166036868e-05, -0.000149814270951917, 4.9074821918717194e-05, 0.0005655511147130672, -0.00019616531867484507, 0.00011546842695074047, 1.0443322037630674e-05, -0.0001361827734058861, 0.00011673159778881337, 2.802263998417367e-05, 0.00012714184618198288, 0.00014748434540841262, 0.00011017042082162552, -0.00016175359582308786, 7.992971791104036e-05, 0.0005069604833172967, 0.00018389576967129707, 0.00016700213488772585, 0.0002280739617987297, 0.0005102350179753707, -4.621822307832686e-05, -0.00024500018809049326, -0.00017437888027257206, -0.00013470259133212953, -2.5030637940314827e-05, -0.0002183396998729284, -4.207462852677394e-05, 0.00036101453546340777, 0.00020320951896608298, -0.00010758701716666406, 2.603482552230099e-05, 8.237265909504313e-05, -0.00022789879673233986, 0.00034198839089141266, 0.00015536102675209763, -0.00040296741487862685, -0.00010209378383137387, 0.00016480568066578292, 0.0005428385246499245, -0.00022372080136157796, -0.00016690850670027495, -8.38331843483439e-05, -0.00035259050327061774, 2.017150051046232e-07, 0.0004344464915792337, 0.00021915322049515656, -0.00028916826913723964, -0.0004660784862805696, -0.0001429593221259004, 0.00035574212477644876, -3.214427129163977e-05, -1.526195912678486e-05, 0.0002576283477807641, 0.0002400700096289697, 0.00018977426984024236, 8.223062526434982e-05, 0.0005112806681747137, 0.0002472453835807645, 0.00033601629758708395, -0.00027107701357653377, 0.00016683812097909078, 0.0002618962156930591, 0.00048336723995727904, 0.0004700512608488295, 2.685132072946777e-05, 9.739739377876551e-05, -0.00019647988416389038, -2.513212033880899e-05, 0.00013762331080602428, 0.00021828873425680474, -0.00022952018785711223, 4.201148700476616e-05, 0.00022473060164044083, -0.00010603282787723968, -0.00013377195827084243, -0.0002680598687238578, -0.00020894786575185315, 0.0003820039130876876, 0.0004141748910298274, -0.00019487771594843377, -0.0007083265667576846, -0.00027946848835610355, -0.0005556185141409673, 0.0003958400572410103, 0.0007906699478770511, -8.991235832046503e-05, 0.00046521501927205416, -6.34266084507788e-05, 0.00025586291160714734, 0.00021710575653636696, 0.00012293115881741902, -8.511839672336544e-05, -0.00012710619431956054, 5.235719763954693e-05, 0.0006751684041126325, 0.0005945240061446642, -0.00033353376324523655, -7.565543483046503e-05, 0.0009120645767210795, -0.0007275111525911274, 0.0008882756369777401, 0.0009878513676699237, 0.0010018919088396678, 0.001018595544788033, 0.0005506027886441741, -2.7991135385010274e-06, -2.4470187472901313e-05, 0.00046511384687838303, -0.0003519838307741923, 0.00030568250815254114, -0.0003540468921035666, -0.000186148082708182, 0.00023139081071700887, -0.0005002256876521058, -8.078656325676719e-05, 2.144274460621565e-05, 0.000723044685371627, -0.0002662623571358701, -7.945521055305153e-05, -0.0006515694068277541, -0.0004124913644744958, -0.0002970590943657188, 0.0004842244918516266, -0.0012598982804336786, -0.00015384011034102097, -7.302290698789747e-05, 0.0003144334779427759, 4.5214994983584366e-05, -2.7158932884551942e-05, 0.0010093319617396112, 0.00044313042776759903, 0.0004561167840604523, 1.3116850833182637e-05, -1.9759421912896383e-05, -0.0006669364405995568, 3.250767096168571e-05, 5.7248752088409974e-05, 0.0009190163971785912, -1.0822905934253571e-05, 0.001113852121745782, 9.772445407693641e-05, 0.00037332777843360546, -0.00019398154216182777, 6.950133833753726e-05, -0.00021714845623046109, -0.001059989638627339, 0.0009989235998858665, -0.0005343426859518363, -0.0008252899547409806, -0.00018780489494287747, -0.00044801902278383994, -0.00018215127317951045, 0.00024746766184808493, 0.000319600915183022, 0.00031115854777182157, -0.00015968653422833087, -0.00014865595519556905, 0.00013233423944482466, -0.0009533312841412418, 0.00036784993682008847, 0.00027450872810303676, 0.0002784593052552525, 3.5931756396289684e-05, 5.328541824976482e-05, 0.0006217895574186297, 0.0003373498551923985, 0.00015799736578483731, -9.733732705212612e-05, -0.0004468708027287969, -0.0002800107602521232, -0.0004480381907400752, -0.0005985090467829374, 0.00025671722332831206, 0.0003173598894397017, 0.00011006955052823213, 0.0011052463979184047, 0.0009301688727663664, 0.0005498627819294907, -0.0010332954634584, -0.0022059929161101135, 0.0011184185853698077, -8.096751886919342e-05, -5.4657157091216393e-05, -0.0006232806171717654, -0.00019189936883614147, -0.0004772322561404996, -0.0006624686223965354, -0.00021711670155574042, 0.0003500471552604072, -0.0008593778687795628, -0.00083578083386772, 0.0004193514812309571, -0.0017704225651257455, -0.00026947194509754696, 0.0003522085624974605, 0.00012061458420371124, 0.0006818386460573696, 0.0021513678543055373, -0.000799150876794919, 0.00046576774414138324, 0.0006862407622725264, 0.0016598653341358674, -0.0010183802562040954, 0.00025924038821594983, -0.00013805881737402777, 0.0010270125805446186, 0.0016995341159417882, -5.964392009434952e-05, -0.00010538383545747156, 0.0020823701460609516, 0.0010297007329689955, 0.00020630685143753296, 0.0009323034646942154, -0.0013810729093020665, 0.00015777005248092635, -2.8172991302029314e-05, -0.0005688043049815485, 0.002383546368615429, 0.001202157582120466, -0.00109842712618173, 0.00013058856171877355, 0.0009294709262469229, 0.0016797847242916025, 0.0013741351732612117, -0.00024912481416340107, -0.0018586605936053956, 0.0005338362013135867, -0.003998734020217649, 0.000523244006817545, -0.000246146778818799, 0.000888205667675268, 0.00010654002920388954, 0.002767523207813643, -0.0005300474276393697, -0.0004748055843431327, -0.00043858636062087467, 0.0010918419235711092, -0.0006561591657159205, 0.0006311085097347494, -0.00217342944128912, -0.0006185451786250623, -0.0005446971774546209, 0.0018609936312027253, 0.0007240004221245617, 0.0008980707484387454, -0.00010960294127487346, -0.0019156975898403862, 0.0014496073896866036, -0.00019485655333804572, 0.0017819728483901972, -0.00036268866222312053, -0.0019207791079195761, -0.0002252262709353522, -0.0018795263292963667, 0.0016215450261648423, -0.0029499630972414197, -0.0007425675603757913, 0.0006483792659101071, -0.0018633941793651581, -0.00024452782429735783, -0.001057377427155279, -0.0011462234078439253, -0.001096702344106471, 0.00010719390713355599, -0.002532492015621819, -0.0038936003841653286, -0.0011580241195269445, 0.004443811429110552, 0.0006512053325130893, 0.00023729114181025163, 0.003338210152244757, -0.0008721974266921052, -0.0015084479681819378, 0.000754904514970071, -0.0011950611304713593, -0.0014955607519422758, 0.002152030195594651, -0.0028178187813401546, 0.002975337433757253, 0.004790822297150353, 0.00021325717504303097, 0.0014855530872337143, -0.0008495932046324508, -0.001793322184250888, -0.002167480628588862, 0.00016293792206122462, -0.00022816685161861083, 0.0011434693874799494, -0.0009264397415786789, -0.003971491761973013, 0.00024735974840002875, 0.005850331582107468, 0.0007325077217306027, 0.00036478857613364546, 0.00377393108258343, -0.0016300052737867187, 0.004924897724275711, -0.0013632673247802396, 0.0011314636999633773, 0.0003560010127514044, -0.005025463524010115, 0.0023875710601078083, -0.0010883166995832418, 0.0009585264022890401, 0.004925523789657584, -1.2110691536163475e-05, -0.002697465814103424, 0.00047942645877694853, 0.002440052793748725, 0.00035811459591472564, 0.002203678492329356, -0.0010139561357099987, -0.0032630722584430696, 0.0014726818002644996, 0.004003749109939158, 0.0008422224115476233, 0.0012886111850239274, 0.001950653692544652, 0.0010890966958257394, 0.002772736039346513, -0.0005542271151019405, 0.0025851768642469455, -0.0014248291271254168, -0.0013893611400473721, -0.0025831604162381543, -0.009444760401058919, -0.0017776284831290646, 0.0043042896345249285, -0.0014001789275970488, 0.0031896616665904086, -0.003228561952336265, 0.0003440334077460007, 0.0005452973294009997, 0.0013016036673820126, -0.005217766265897449, 0.001095840301072487, 0.0016807472897560564, -0.00015901449471432405, -0.0007971187588849092, 0.003548622711552943, 0.00478073532729605, -0.001983638315963164, 0.001774548995137614, 0.0015715599460111112, 0.0026602666358112653, 0.0035708801913236607, 0.007099338983873837, 0.005176418213888015, 0.0009685770333526622, -0.0001806813492714936, 0.006542105434785739, 0.006550462654152457, -0.00350808379561359, 0.0024465222737209908, 0.00042347531801742227, -0.0075228439044995096, -0.0010427207673749956, -0.0033918970781530453, 0.0030643143287562456, -0.0005773134721863871, -0.0065127015186392054, 0.0050380107663669325, 0.0021324130793088786, 0.008839901521056927, -0.007500739688174751, 0.005767224539520692, 0.0038231907550915134, 0.0036309376906884993, 0.0002402211289516138, 0.0023693013030397694, 0.008086029638993875, -0.007020869936669292, -0.0059369670258075, 0.0023632777747741715, -0.003393728822519513, 0.00035837940914245844, -0.014953518128347176, 0.008174485568587454, -0.0023734444788054724, -0.0008581422648160488, 0.0013817569077519461, 0.008577029606770523, 0.0005347582269219333, 0.005523814831620587, 0.004662459327706261, -0.003094369271554068, -0.0021902445356344388, -0.0019970892180325283, 0.0025104949905607942, -0.0010497337234630052, 0.0060858481731758205, -0.004647791302124121, -0.002492629847907175, 0.00016321751286477084, 0.004828091829852851, -0.0020347187917086704, 0.0025833610208893716, 0.004622344932408144, -0.0002926049651265968, -0.004931847922345137, 0.003209228487057318, 0.0001996284973728498, 0.0020132514090402225, 0.005341779132605822, 0.004117326457444635, -0.0022008557329205028, 0.004042047191002925, 0.005257245357437857, -0.005507575907744421, 0.00564771939647524, 0.0005375461146871607, 0.004776566911341399, -0.005483661351203572, 0.0008636477791015267, 0.0023951925435350407, 0.004449969841628492, 0.0013092793999471939, 0.004784679323404922, 0.002735338280890077, -0.002728293548558024, -0.0053541518964621915, -0.0024261504419998844, -0.002124487578082547, -0.002793296558217563, -0.0006517195886036966, -0.003248391654661875, 0.0016468620664291914, -0.005046942937981488, 0.00391308609232943, 0.0019967626544155, -0.0003703933877653343, 0.0031677055741558538, -0.0030553534189496833, -0.006350304777443593, 0.002142309270837444, -0.0009984767882628355, 0.0015028598488155825, 0.0012149682663372277, 0.0019905105527954423, 0.0016522755715953246, 0.00024775801457811285, 0.0013387650538645244, 0.002496176132697957, 0.000659530846727892, 0.002943123109001973, -0.0019931441432904967, 0.0012853358594759308, -0.0006877539617864891, 0.00015806258980847164, 0.005139608196725646, -0.0018059634589479628, -0.002689785881091553, -0.0009568534551932101, 0.005457833062095586, 0.0004936964499972548, 0.0036464827629781697, -0.004387285020021615, 0.004280168985867631, -0.0037056234471158785, 0.00572094150908119, -0.0022756873012834402, 0.0002069189236704825, 0.0006186438951374853, 0.0025103293233609035, 0.003804802841067689, -0.0007822326063636632, 0.006440420956957274, 0.0019959587148174456, 0.0030190547597475008, 0.0001965886853227466, 0.0010574772157386034, 0.0013565163215416096, -0.0022078331216595715, -0.0017994694487102054, -0.0009964877051685172, 0.00021478464921999047, 0.003938997801579721, -0.0006892307066326966, -0.000709012524510744, -0.0012906187600776556, -0.0005416933663976303, 0.0018144388284146865, -0.0008738731248477544, -0.0010182309278479263, 0.000432161465044026, -0.00038459789910084453, -0.002171064079676268, -0.0003535161101994094, -0.0013002494967080452, 0.002582270707607035, 0.00047616175510866235, -0.00027139539753985413, -0.0026581790409873412, -0.003203200751199632, 0.0011702885451476738, 0.0035477062174872082, -0.0015170067747778226, 0.0009957572786840029, 0.00045269404004868747, -0.0011579453655181995, -0.00046903615796388843, -0.0005881338905663162, 0.001896340839869174, 0.005353134510402377, 0.0031667087475025927, 0.0030407740297230135, -0.00019298987970930732, -0.0008481762963761033, -0.003316578264408323, 0.0011454898427087296, 0.003764341303336866, 0.0009667009327304302, 0.0031745845566981635, 0.001303080192587759, -0.0033028791016136753, 0.0040397867525619035, -0.0006969006718143502, -0.002542127431828946, 0.0006944717595550156, -4.960579706470968e-05, -0.0009074523487383589, 0.001113912486744889, -0.004220295469281694, 0.0018246689707866765, 7.44678858051644e-05, 0.004720752695831521, 0.00405809868218831, -0.001910830026965838, 0.003432689231482069, 0.0019029670473531077, -0.0010428352436530242, -0.002406739295816477, 5.1776670860130374e-05, -0.000237337781098035, -0.0004857849654496396, 0.002681367267283107, -0.004299186231288844, -0.003341961855228081, -0.0024338825707871667, 0.0001789490039628516, 0.0037426775811894037, -0.0035849995257205714, -0.001240830915121149, 0.0022608487690178123, 0.0036352083496816578, 0.0006731666062389176, -0.0003069442483686277, 0.0024630480163464826, 0.0031946288484127235, -0.005234160366776035, 0.0023294957617062927, 0.0019865303156626846, 0.0011737021143197821, 0.0007089015090362403, -0.0009826329430134503, 0.0010964260617038575, -0.000567481975165156, 0.004485182597326186, 0.003655241579117465, 5.7761336387508646e-05, -0.0026015315724279772, -0.0005136856283245094, 0.0005294057678500875, -0.004271408467647724, -0.0031619230407087112, -0.0031737395121910414, 0.0016757049212401064, -9.574110706052526e-05, 1.6726197621167588e-05, 0.0032220164123415392, -0.0031736571094497417, 0.003877641140525393, 0.002800065091760661, 0.0004708765099347822, -0.0012753689678766814, -0.0006139709425764367, -0.0009988644453852672, 0.0006124600628692606, 0.003360612547777736, -0.004269263855492529, 0.0010729719701667991, 0.0032983209410310955, 0.00452168290141193, -0.0019569736983672857, -0.0027774910616013768, 0.002434070483364149, 0.0006436910316637658, -0.00048177004131880283, 0.004071129534656241, -0.002494431580575055, 0.0010109773832580517, 0.0020486228547465252, -0.004038261383363064, 0.00600746362787739, -0.0002203456185053158, 0.0023514732429925234, 0.0011670708171166097, -0.0047466605190982555, -0.005504161410163107, 0.00030147355933171464, -0.0007114106819718447, -0.0010601347862349616, -0.0041067955745415245, 0.0009193647182912871, 0.006384208897048562, 0.003930993629425572, -0.00018897066962651234, 0.00022358256592039123, -0.003062320788721075, 0.0005107198884470978, -0.00016212100171164676, 0.005060323396720923, 0.0024980505754335367, 0.003255490045002709, 0.0036895458525122876, -0.0024495420029461133, -0.001038487621765109, 0.001507265783568408, 0.0050397447020992785, 0.0009762113108469205, 0.0033741940310082126, 0.0020784784618580986, -0.0005439804368580587, -0.0013006856872010766, -0.001004758525221066, -0.0022374860900681156, 0.0033461591376605744, -0.0031484953308184077, -0.0039012059097197085, 2.1015233492319325e-05, 0.0009918994890575725, 0.0004415650171354455, 0.0014581327576155497, -0.0037447448162641825, -0.0007714177882585747, -0.0007874222035422758, 0.0006385295873144892, 0.0051158121882904075, 0.002750122929381632, -0.006369722684496449, -0.0009381050533907483, -0.010759942241916152, 0.005322250672766775, 0.0003126252382893075, -0.003161140933760697, -0.0010353303180230923, 0.002896206055945252, -0.003266195226564546, 0.0013464070200645837, -0.001733522304125078, 0.002108535864879167, -0.0027179986095363295, -0.001221560755594115, 0.0006708308480125913, -0.0011477791675500338, 0.003025814031539089, -0.0014320765456233295, -0.001011913849618162, -0.0073762371490732085, -0.0006297856559657371, -0.00025338429207520923, -0.0005914498464261071, 0.00270314640110303, -0.0021686767567287756, -0.0015508395709460884, 0.0050212223857568836, 0.0015661038098856283, 0.002359432959114573, 6.661346127653615e-05, -0.0006473249323915341, 0.0007979233235428339, 0.005420264739550972, -0.00445303316749165, -0.0015328862830673463, 0.002125488527887581, 0.002342195609877483, 0.0008420089153395966, 0.0012713809600779537, -0.0016513598228554138, 0.0008511180476485393, 3.8867678184281024e-05, -0.001524398124344994, 0.0026468969240996884, 0.003524220384421577, -0.0005514374952798832, 0.00045263160633153077, -0.0030370720301782644, -0.0019220577362053432, -0.0045809741231435845, -0.003760860776588014, 0.001017203687123159, -0.00020830131979369948, -0.0008624877755250265, 0.0016861012596970197, 0.0034817712707124714, 0.007676610385339052, -0.0017105278878652456, -0.0011852962409301272, -0.0021843339107744026, -0.001681198451249311, 0.0023474896078972797, -0.001298484155142745, 0.0020639930659669572, 0.0015056585253228182, 0.0008901860185230031, -0.005835725287762934, 0.0007353643441845616, -0.0022832850033016015, 0.002841356129704209, 0.0012752448540644006, 0.005990641476267583, 0.002188374483713287, -0.0016567615326784294, 0.0036419911406992285, -0.002258894859840639, 0.003933145145581988, -0.005682118914227494, -0.0009163378619315328, 0.0004251224245478474, 0.003868233145006078, 0.002585799475417828, 0.0016245743102104963, 0.0027302909291883433, -0.0012165264090640664, -0.0002615220749453813, -0.00180318068484789, 0.004206027502696175, -0.00459197453201306, -0.0015305479286693497, -0.00144730197999719, -0.002949439980015169, 0.0024525007816534826, 0.0005509875846695252, 0.006841467803027379, -0.0015642717021081545, 0.0065172769841156455, 0.002460116282861476, -0.0019819769203250816, -0.0004711444457930116, 0.0004263173001662232, 0.0008934930853180876, -0.002548274801976402, 0.002925083804067555, -0.002238333664912372, 0.000968404794766864, -0.0053877457357106254, -0.0023659875234348297, 0.005362721256886985, 0.003907854412278817, 0.0009942827241610306, -9.765941309656991e-05, -0.0013155409850692523, -0.0010221762490775607, -0.002731055690936771, 0.0026368000536906066, 0.005726357960088176, 0.0026183502296612273, 0.0028504262697758003, 0.0024844794499501114, 0.0022306630047904084, 0.003225930568233828, -0.00011984687552901762, -0.00045427648974084205, -0.003147169259965266, -0.00021008097536655973, -0.0012128519883096056, 0.00343526784418767, -0.0026855986988578526, 0.00038682240018709027, -0.004175881919816741, -0.00463645822969275, -0.003653931387262499, -0.0004673807186518853, -0.00030244592204251106, 0.0047091747256381615, 0.0006468689975535915, -0.001991110660078104, -0.00035570193804996907, 0.0015121965456112501, -0.00311659596972404, -0.0006281739693283356, 0.00013423791591401363, 0.0010036856439809487, 0.00143604451354005, -0.004412106323066482, 0.004623431753264099, -0.005114084426389021, 0.0014925944718016393, -0.0006322487506733449, -0.001823278799817649, -0.005018811002093112, 0.0027431479276527095, -0.004107525897600919, -0.00042207721096486177, 7.182426960893789e-05, -0.0016974395398567177, 0.0033012074564136894, -0.002478368975657012, -0.006448163538813643, -0.001983122748157447, -7.262006892880149e-05, 0.0007071491855490195, -0.004941834719646278, -0.0007704694477754753, -0.001312010223433806, -0.0003898162354845228, 0.0007584357215765589, 0.0024718602639875074, 0.0037287843347046045, 0.00143923156882712, -0.00027032979202748237, -0.0004998237698405237, -0.0028999602974306366, 0.0010743124078431403, -0.0028055574003418723, 0.0015339771465087892, 2.199607144491838e-05, -0.003680007120405806, 0.001030035105067393, 0.005794730965861468, 0.0001309159261903654, 0.0026202532046196193, 0.000489807781724998, -0.00021369763648824112, -0.003669066426033393, 0.0041737679517523186, -0.000392076746847065, -0.0038144636428471337, 0.0035224211510138104, -0.004293889077421121, 0.0014242387510316882, 0.0027738510101946784, 0.0013621878880902393, 0.005716432671046722, 0.00308510748246705, 0.0011307862450782883, -0.003719672533741316, 0.0016684956471318864, -0.0030193714463663517, 0.0008856506241874422, -0.0004193078888550072, 7.913472457718451e-05, 0.003397598809141965, -0.0022776297642728358, -0.0040101189315424075, 0.0020671059444481773, -0.00010812136273352885, -0.006356391169577856, 0.0035322926016873764, 0.001496132491173292, -0.002689586046879542, 0.004443937110369825, -0.0006083640166945977, -0.0008466854183511322, 0.001302046347463115, -0.00024449557595392015, 0.0027055886027316225, -0.003625162451616073, -0.0003828238223855208, 0.0024054749119861267, 0.0025246640160056224, -0.0027428926136169006, 0.0035563950368284656, 0.0002465363922434416, 0.003469624397902101, 0.00016420140304196883, 0.0004056362612591142, -0.004826303539360149, 0.0035288692069381277, 0.0005246276142029427, 0.0005378221083699296, 0.001740411191466592, -0.002097804281784051, -0.0026034814718828283, 0.0028731873924059863, -0.0027080702623993942, -0.0037702091403929525, -0.004441624650222997, -0.004135473496502905, 0.0016977206632356446, -0.0022955589694624735, 0.003296493147427161, 0.005361423245678975, 0.006095746420408148, 0.001990759326004778, -0.00013762616798875318, -8.634504439526593e-05, 0.0028441428293470633, 0.0016928379976799376, -0.0016143986809011978, 0.001163021333545275, -0.0017940219655324073, -0.003729087073909708, 0.002813692471734976, 0.004627987159932236, -0.0010738386025360824, -0.0008353650170608539, 0.0007781195152351972, -0.001405677872945318, 0.0008120717915109975, 0.0029873512735746907, -0.006527296106313463, -0.0017298452392647723, 0.000362882144257512, 0.003319638476375988, 0.0024305128669564386, 0.0034150537214841297, -0.00024472927728248425, 0.0006952530076030135, -0.004868215816251826, 0.00110590944100236, 0.004680271810834966, 0.00010855286239964089, 0.0017059445300651559, -0.0013262121972972807, 0.0008762433221940731, -0.0026852141454865456, 0.0010442922656361178, -0.006576546988489654, 0.0012075167301249298, 0.0023254689614906265, -0.0024216990385132068, -0.0015580535079777363, -0.0031584160635615387, -0.0008298062347271012, -0.0032224308973658796, 0.0004806287941982023, 0.0017928013893012858, 0.0002990514156973492, 0.0016211712946836371, 0.005604291543247262, -0.004796779868762429, -0.005083432210876094, -0.0029410994035112617, 0.003548003766739683, 8.387005853816888e-05, 0.0025856830490423068, -0.0037247996580273765, 0.002814394301364327, 0.00639868942589107, -0.004952942758765387, 0.0020394383841581968, -0.0021893980205551188, -0.005954201055221067, -0.002064179888480497, 0.0077738036091106015, 0.005838543045426297, 0.0022713409842650446, 0.002881008813147486, 0.0014017122232116489, -0.007103311844333445, 0.0032042261610229876, 0.0019266905913527758, 0.0029905063436919425, 0.003877388804042439, 0.002284905343402494, -0.006675418570927113, 0.002430618197742215, -0.0005203249769450361, 0.004583508982259095, -0.0036390898195212042, -0.0029830833149676033, -0.0017082661371594615, 0.0017058612015563952, 0.002573174379560336, -0.004569307270551096, -0.0020087207105516534, 0.0011401947709365904, -0.006318883486483692, 0.002974568885357648, -0.0006600562292004026, -0.0027222360669329005, 0.0004935764894827229, 0.0031498047967129664, 0.0018218121225298668, 0.00022841615962406869, -0.00047861829862379083, 0.002263068729031743, -0.0023851266087815603, 0.00042817121587845723]\n",
            "tyrant : [-9.973279384556199e-05, 6.472966671373925e-05, -9.074979827861096e-05, -2.330709628678429e-05, 1.028101174366941e-05, -0.00014452743002429935, 6.093212034030682e-05, -7.141752802936052e-05, 0.00011896957075979708, -7.000356180627415e-05, 0.0002654653926973116, 7.314839320346489e-05, 3.181742193171522e-05, 8.803897677094052e-05, -1.69689599037238e-05, -2.166520096306794e-05, -0.00015067881650806733, -0.0002899841239502078, 0.00021753976283749466, -0.00018729432782142166, 0.0002988587583029335, -0.00011241335016823985, 0.00012800248885698386, -0.00017950991281146772, -0.00012603690507870984, -3.387222147876025e-05, -6.1016947740817574e-05, 0.0001089323974787557, 5.472346222129727e-05, -0.0005155240153918603, 0.0004318666757941324, 0.0002907122896085719, -0.00025755094008847836, 0.0006440472402364091, 0.00010018264494890498, 6.38410483216334e-05, 0.0009186818794915674, 0.00012208276343728228, -0.0012522987093208163, -0.0012194909751325933, -0.0012409053719090615, 0.000670474167273661, 0.00014712197364539874, 0.0003965780309575454, 0.0006041766530927584, 0.0006796799761523888, 0.0007034809766079485, -0.0001598192891647185, 0.00015184824701230427, -0.0009174835352283883, -0.0003641673678952632, 5.3489412226050484e-05, 8.366831780617359e-06, 0.0007340441955241384, -9.877753734344316e-05, 0.00031443912828560665, -0.00013910914342606367, -5.7193173975852475e-05, -0.00010632598726716125, -0.00014847574010856852, 0.000526439030689568, -0.0001836233575855041, -3.355649504043802e-05, 0.0002451578853901043, -0.0005551554910611393, -0.00037972889424331673, 0.0004544261757401351, 0.0005504120873807954, 0.0005772295225976356, 0.00011037062517889329, 0.00010308923014551224, -0.00019476785465464674, -0.00017982523213798382, -0.0002910111923031967, 0.0001613269875173299, 1.7588510268463572e-05, 6.22052100145501e-05, -0.00035990173431777253, 1.1551631665047577e-05, -0.00034846091196089144, -0.0005677590086641738, 0.0005950324778550618, -0.0007327486818113583, 0.0005208291594466707, -0.0001601593783746233, 0.00030499087472534033, -0.0004905549542123585, -7.662808044180298e-05, -0.0006671203370284039, -0.0004398087823542698, -0.0003547410241269162, -0.0004158516190036982, 0.0001462632358942362, -0.00019478741621337483, -0.0006082074924528037, -0.001616896012509023, -0.0010052104379002546, -0.0003206290081848671, 0.000710353875896827, -0.0010137588445675349, 0.0007857126320327951, -0.0005869596755298653, 0.0008819319366452757, -0.000471344997015114, 0.0013480821769132683, 0.0009988503431795697, -8.895944016495787e-05, 0.0012962262880005465, 7.599271697458863e-05, -0.00014857460306049765, -0.00041825362858400814, -0.00023975770875413844, -0.000321306915441562, 2.1965437738087623e-05, -0.00020605621192156909, -0.0010386473198326, -0.00021330826824976327, 0.0001157869942413881, -0.00045833327212302724, -0.0004970604267164449, 0.00033859230845308466, 0.0007068594386807018, -0.000356363384383777, -0.0006576830333180324, 6.0163601111787746e-05, 0.00045322847513185917, 5.116325049792092e-05, 0.00025149330802766174, -0.0004364975430274639, -7.681168216523118e-05, -0.00047847693898802907, -0.00013238390164783986, -6.472959539918083e-05, -0.00024471160801014017, 0.00047007219866194647, -0.00022077793505853637, 0.0004170660040191732, 7.006048493112373e-05, 0.00037853853009912897, -2.6893828409896292e-05, 0.00028913151658204036, -0.00033700595265548247, 7.816949923928978e-05, -0.00013029699091894262, -0.0005197461106812484, -5.4672617334986754e-05, -0.0004202956247227516, 0.00019452175871721792, -0.0005197144791541856, -8.552965653670758e-05, -0.0002133027495348121, -0.00026009870223519713, -0.00022033672946117876, -0.0003205109989633621, 0.0005048105905497424, -0.0004846386596223163, 0.00021475290392863802, -0.00011975193756509888, 0.00020459755833202378, -6.75716844150214e-05, 0.00011895671714676702, -0.0005333802623320111, 0.0001687074512609541, 5.2986821454791e-05, -0.0007454272721344438, 0.0004423036088583852, 0.0003674884739454645, 0.00046307680513532797, -0.00026477662267027774, 0.0006135900557960082, -0.0003285005306915747, 0.0004614330560741564, 0.00023587522060580053, 0.00041733392210354433, -2.2373576496720164e-05, -3.467199319846163e-05, 5.209446283450719e-05, 8.0689127939443e-05, -0.0002728766911794826, 7.65307028572984e-05, -6.450435646498075e-05, -7.279872503678734e-05, -4.448105863008524e-05, 0.0002484963524880088, -0.0006004066789934096, -0.0005353632878206099, 0.00031231453998197857, 0.0003345279178581049, 5.913991979211199e-07, 0.00014031550107613394, 0.000182256566608555, -0.0002623304914888729, 8.603859997467073e-05, 0.00037248918687463484, 7.196818614803291e-05, 0.00026269335719973755, -0.00040611933702310553, 0.00020008165447743574, -4.348915981916961e-05, -0.00045829671714981736, 0.0002044112865357626, -0.00034704172389290935, -0.00013837934400119743, 0.00014017308711061077, 0.00016049351446813004, -4.0230891909185e-05, -2.0574050621337834e-05, -0.00023828512083942047, 2.7386088539914887e-06, -0.00036977771694912936, -0.0002278265747371784, 0.00021819125656066373, 0.000129794160203321, -0.00016791947387191728, -9.4000846515363e-05, -0.0003324517980831084, 0.0004142800524098006, -1.5706032164301484e-05, 0.0003677345597871714, 0.00014092834338418027, -9.073682420677326e-06, 0.00028913303720751383, 3.6708623843619004e-05, 0.0004189402922743892, -0.0003893683972642269, 0.00015177344540532803, 0.00014420976041927156, -0.00016959930325746134, 4.230832640622032e-05, 0.00022673444128243808, -0.0003240946356296939, 0.00014675246330246334, 0.00021402024959524626, 0.0005312133610772558, 4.3547349289428606e-05, -0.0003364285332244214, -2.3400320533002402e-05, -9.486852347963186e-05, -0.0002766397859351996, 0.0003105059768323045, 0.0001645244170349995, -0.0002872507323951794, 0.00012386351496710378, 8.51348028631984e-05, 0.00040689859476598055, -2.091881128025823e-05, 5.8388928638547066e-05, 0.00015361370008204955, 0.0002612775654307249, 0.00040463526858229375, 0.00042796036083535987, -0.00020270785563476323, -0.0003768245436129451, -0.00010323311513225084, 0.00045915555720446556, 0.00010503656911311989, 0.00035767977598984477, -0.0002341524719047148, 2.6860558991713673e-06, 0.000292218354287319, -0.0004358356349881869, 0.00017898913945940773, 0.00038837199245239217, -9.231679936663739e-05, 9.955064324601711e-06, 0.00023749053036793526, -1.589910972891941e-05, -0.000159236975562085, 0.0005581442443094832, 0.00036221320826848244, 6.93685470788978e-06, -0.0001894634742851401, 7.963733278716959e-05, -0.00019093475772742207, 0.00019220560113200093, 0.0002492317815176205, 5.850995517165964e-05, 0.0001476104412048711, 0.0005580201408511435, -0.0003439193656134651, -0.00016652465331644644, -1.564740179177122e-05, -0.0002033054607808397, -0.00021736336273277777, 0.0005016910222478488, 0.00018090789840867158, 0.00015878531551958858, 2.5965552646890517e-05, 0.00012008880091075131, -0.00022810710687448232, -0.00014946513155082372, -6.864127417675951e-05, 0.00036455159977164973, -2.8783817821531957e-05, -0.000186188032652153, 4.979061326085667e-05, -0.00026020847676588724, 7.355966651990497e-05, -0.0006161364997683742, 8.762439901713705e-05, 0.00044154880213833226, -0.00022983647815368475, 0.0002343136927811611, 0.00016490241500645778, -0.0001385627210585237, 0.0001801434870249512, -6.741970727963849e-05, -0.00031444081736659946, 9.49283621395295e-06, 0.0007390455174855954, -4.382878971942699e-05, 0.00010926885857480005, 6.299442579053155e-05, 6.0113468341684755e-06, 0.000426656691188786, 5.239392360153897e-06, -0.00028150573175964527, 2.3632251126308977e-05, -0.00021448418607762556, 0.0002051563197208491, 3.146656654691481e-05, -4.462841605505424e-05, -6.841048386032082e-05, -0.0003193625310975567, -0.00011306324791071892, 4.536986686350889e-05, -3.4043738195977096e-06, 0.0001589159662155979, -7.997816871835518e-05, 8.828006905197989e-06, 2.1505151736345932e-05, -7.314676594287082e-05, -6.197108908789035e-05, -0.0005293055255553472, 7.289658942866324e-05, -8.461090764179738e-05, 8.825582758130446e-06, -0.00035796168237449194, 0.0002752466608602227, 0.00029581753464076534, -2.7416474736308583e-05, 0.00010769273420983393, 7.940319854699593e-05, -0.00010401449106551143, -6.869205614825778e-05, 1.8550161674792467e-05, -0.0001468414616566363, -0.00042900192463020143, -0.0001203764725783811, -5.292400733531398e-05, -2.9185756716051947e-06, -0.00033272842012162, -0.00011157328145510164, 0.00024854180554807065, 0.0002976347808865427, 0.0004162311334109598, -6.029081306538584e-05, 5.117657374352838e-05, 0.0002134736175148041, -7.872997657009176e-05, -6.313437418931783e-05, 0.00013991036896098414, -8.249270749101671e-05, -6.894355682950971e-05, -0.00013365505668989832, -7.959231435224375e-05, 0.00024123709056628022, -0.00030278439353511547, -6.605792213413772e-05, 0.00033943201190789706, -6.539743770131098e-05, 0.0002855990507938115, -0.00016735117933276721, -6.091436346352969e-05, 0.00023246358266260135, 0.00015817864508746622, 0.00020997103824719988, 0.0002985899050898537, 8.448931552779647e-05, -0.00023384169409645852, 6.422252977177079e-05, -0.0003147782984129194, 0.000295110566794478, 0.00033585473441942026, 6.099861911508606e-05, 0.00018120774420124584, 0.00029505014873946935, 0.00018632923698319657, -0.0005391092134736358, 5.163011357273194e-05, -0.00012070254473484261, -0.00032317680206561336, 0.00016254545734478102, -0.00015735092467053426, -0.00023254594123827202, -0.0002102190252793448, 1.896889582559487e-05, 5.748513698296742e-05, -0.00025607069049161674, -0.00017667146327518996, -0.00021620207786686354, -0.00019495307213476462, -0.00023256423295418653, -0.0005317793859040245, -0.00017493368972064513, -0.00015060608412102803, 0.00027609336857911324, -0.00026666992118607596, -0.0005775100448443978, 0.0003834333491847567, -0.00027253689902546506, 1.5889150100629676e-05, -0.00027579243855174604, -1.968850739455033e-05, 5.303813464250986e-05, 0.00026098546232293345, -3.93235948970901e-05, -0.0005712173246494763, 3.353651789971424e-05, 0.00010443427857681617, -0.00033401503209370444, -0.0005265595932321945, 3.7547289400128615e-06, 0.0001251344868478093, -0.0003472346696524629, 0.00016505489198105367, 0.00022289366155187236, -0.0004170136819905239, -0.0001680699356751043, -0.00013948805291871428, -0.0002580597422860171, -9.495834704064537e-06, 0.00023275847096023892, -0.0002651978052399919, 5.194227417467615e-05, 8.336210202042812e-05, -0.00012371612358122385, -0.00040959636889140736, 0.00011873519336874465, 0.00013456366446288476, -9.294078455958105e-05, -0.00011976303931775321, 0.00017719603934539165, 0.00014368800619155714, -7.412742197898431e-05, 7.191294915127443e-05, 7.64287219078212e-05, 0.00020358760116475326, 0.00014208746750448212, 0.0001025390953952258, -0.00037877410090560474, -9.353686971854628e-05, -0.00027986802734305573, -0.0001087127602391897, -0.0003243863796702608, -0.00018899748435122796, 0.00018881001054760985, 0.00012778952374907764, 0.0002702171790734415, 5.897551288771012e-05, 0.00023361221143781844, 0.00022887087047706364, -0.00011992165494724167, 0.000240071916902335, -0.0001618595884487848, 0.00048259719648722794, 0.0004993127001022583, -0.00026546115267497405, 1.963732048029538e-05, 0.00015556532473673737, 0.00014477722200677192, -0.0001884984748776698, -0.00022874602921975178, -0.00019673415471142125, -6.948814336251753e-05, -0.0002810368392242128, 0.00043993401598852854, 0.0004211042445603965, 0.00014790269871574595, 0.00033186581130331834, -0.00022348464987039768, -0.0003461234361058479, -0.0002533030776797063, 0.0003251474514447293, -0.0002218093433392996, -0.00035621804054902784, -2.4627646261425173e-06, -0.00040050732553960095, 0.00010788505177182267, 0.0004167195821440945, 0.00025083794776333684, -0.000429017454441411, 0.0003259772117449704, -0.00038558691785343414, -0.00017409904977366136, -0.00017219774173293518, -9.343459591054605e-05, -4.107505854848454e-06, 0.0001341459730141623, 0.00015079110217663082, -0.00028683207365053087, -0.0002873343536809979, -0.00021580694391615512, 2.331439104344456e-05, 0.00047134657681475545, -8.031543445225333e-05, -0.0003065315009757861, 1.959331495868591e-05, 9.744952925137395e-05, -0.00034228545650291306, -1.1677625309353644e-05, 0.0005803556007909893, -0.00022203845954890536, -0.0001269442575478879, 0.00019610791830650988, 0.00016558117848237985, -0.00021930972916140573, -0.0002188330980500636, 0.0001711088910670848, 4.0710626613977945e-05, 0.0003390363824384299, 0.00035218494659784456, -0.0005236086783859915, 0.0001195867604120123, -0.00019253920586852907, 0.0003103273190284781, 0.00012927194870449021, 0.0001778170909972239, 0.00025170608850378935, -0.0005569269652518242, -0.0003606560813378544, 0.0003551666706630562, -0.00029378778805552123, 6.552326944548638e-05, -0.00017286787217958978, -2.5951613845788188e-05, -0.00045319336838719706, -3.052579867331498e-05, -0.0001716569804832797, 2.9472547301468473e-05, -0.00028570857188174505, 0.00043580392331313625, -0.00026384978452111997, 0.00017654403299802168, -0.000172838072416308, 5.71888503137696e-05, -0.0007712640501259787, 0.0004414375175283147, 0.0003018111139840348, 3.810459572758072e-05, 6.653008972987672e-05, 0.0001526023283836388, 0.0002196855377617486, 4.295988733121151e-05, -9.832880434910591e-05, 0.0003330068924157115, -0.00034938805442663286, 8.20801498202621e-05, -0.0005624155534002424, -6.912466738545771e-05, 0.00022613922189539462, -0.000697746853614175, 6.108871900678721e-06, 0.000275180417256811, 0.00047520716924454465, -0.0005169028866653274, -0.00022017293829484919, 0.0003267169201349668, -7.293160912692298e-05, 0.00037656021288209884, 7.178354334733833e-05, -9.074755897360131e-05, -0.00015566066115824877, -0.00029597243836063103, -4.223812659932824e-05, -2.447783690233754e-05, -9.22610065237162e-05, -8.112585460378925e-05, 3.939009044041583e-05, -0.00012834308025790937, -0.0002710419566215533, -0.00012021444992518847, -1.6673819121921368e-05, 0.00013122943090056356, 0.00040634828177152187, -3.545206633803256e-05, 0.00018236032193334832, -0.00023481652874971816, -0.00010748265348492145, 0.0004383958231775377, 7.516856621733389e-05, -2.5618803152138367e-05, 0.0004226122257561831, 0.0002732993776654166, 0.00014753320844457414, 0.0001514543590344611, -0.0005833406853214432, 0.00030309598615976645, 0.0003819865535588775, 6.860842168532333e-05, 0.0001604252223185729, 0.00026748634636546663, 0.0002018723834753015, -3.8301591770731076e-05, -0.00022568746922612803, -0.0001999305137023403, 0.00019503995573877733, 0.00033605213884065586, 0.00035636026327050827, 0.0002531050780684059, -0.000589069370662314, -4.8074515364978504e-05, 0.0003599018642983067, 0.00022301308433208752, -0.00025203174414969304, 5.620336193522572e-05, -4.771171498692099e-05, -0.00017802214690574225, 4.04210518615937e-05, 2.7399206372279508e-05, 2.681929134545037e-05, 0.0006676137559441064, 0.0004367548944143899, 0.0003848491297469464, -0.00016987833382028873, 0.0003266013171391583, 0.00033989200477408006, -0.00010856266763558308, 0.000355195099548798, 3.357916471667926e-06, 1.0861483216321154e-05, -0.00018569772843587962, 8.598135416275202e-05, 0.00020271107813344107, -0.00010291731915404445, 4.074686545309323e-05, -7.537309896698207e-06, -2.377668697475018e-05, 7.2889025414055e-05, 0.00010190288983486385, -7.020428448454235e-05, -0.00022530399839618392, 2.0778915500515183e-06, -0.00012792918712353166, 0.00026893524890903714, -0.00045310029445790804, 0.00048702217372843413, -0.00029560312696547304, -0.0004956636995980123, 0.00026145891487423453, 0.00021217878853503603, 0.0002351470378716327, -0.00013196141171764727, -0.00017194079350646777, 0.0004183498565522928, -0.00015472476245741076, 6.3660685818848e-05, 0.00029386981371926275, 0.00044263835563513763, -0.0002716867948784963, -0.0001767332528378792, -5.594081962698519e-05, 0.0004511569257173373, 7.660992120489519e-05, -0.00011808304363333105, -0.00015052335340424387, -5.21173765387975e-05, 7.3203457084400694e-06, -0.00024756063956011534, -9.835395787750217e-05, -0.0004037578262800969, -0.00014993767183542274, 4.1077550133338664e-05, 5.059599723700024e-05, 0.00028657887120087696, -0.00047719821325661296, 9.001794065763855e-05, -0.0004577703967945674, 0.00036109428162521074, -0.00014884620541731793, 0.000140750179066838, 4.844657577194201e-05, -4.307534695916458e-05, -0.00025863840308518117, 2.502523409030313e-05, 2.8070949258859066e-05, 0.0001626453786782939, -0.0006021910324853823, 0.00016077449662524595, -0.0002575271211742577, -3.4096676522718875e-05, -7.278034645872341e-05, -5.020222109508273e-05, 0.0002676144446179954, -0.0004528881386437972, 4.988479553166662e-05, 0.00032483256590951385, -0.0006920371380439872, -4.719697902161356e-05, 0.00010933114825946964, 9.774740312567913e-05, 0.00047976006315074253, 0.00026654807980515567, 0.00026050597439104687, 0.00047552152091684917, 0.0001215001573892675, 0.0002744521822411533, -0.00032980621375241137, -7.29333621999357e-05, -0.000308395076866337, -0.0001528312312222631, -0.0003819596865390117, -0.00024161183407403822, 6.506631340948187e-05, 1.487960313530795e-05, -0.00026977941301331587, 0.0005428616454822184, -4.9729036153622506e-05, 0.0003880776608740529, 5.785844564471628e-05, -2.3922759633657198e-05, 0.0001357602585270387, -0.00025099143905549454, 0.00048401798390955474, 9.282896979511762e-05, -8.456580588957988e-06, 4.660860612662899e-05, 0.0003272311607275969, -9.673145087775795e-05, -3.910164658348352e-05, -1.3000824192810345e-05, 0.00024208392034832417, 3.995235641351315e-05, 0.0002915789140626754, 0.00026903415290101176, -6.399074892575219e-05, -0.0005111395286298854, -0.0004898326540308212, -0.00028751419397798125, 9.141133429507882e-05, 4.0226515423000264e-05, 0.0005921574858904323, 1.0994872694399666e-05, 0.00018022512713665808, 8.96509283091285e-05, -5.6176396707420615e-05, 0.00030802882427128286, -0.0001791456601492442, -7.34047933101281e-05, 0.00015990674575934883, -0.00018008051114294914, 5.726653620041246e-05, 0.000171155739195255, 0.00035608483013920434, -0.00025740273695073817, 0.0002065377978907512, 0.00032888517597950387, 0.000620293641590333, 0.00023560524040971802, 8.381533875340197e-06, -0.0001953561136741527, -0.00010508203637781465, -3.445019469001454e-05, -0.0005436719636910149, -9.769565495889383e-05, -3.7417737654007414e-05, -0.00011139519890393285, -0.00014589220240592265, 8.369672893673895e-05, -0.0004172999364808203, -0.00010052898860009925, 1.0136988204479834e-05, 7.766689684222906e-06, -0.00010539190656396608, -0.00044748445936046866, -0.00040047826687940585, -0.00030521330197975563, -0.0002620428603656577, 0.00019475516452143599, -0.00040078379355510123, 9.283392236218366e-05, 0.00048249521972098305, 0.00024414050825913693, 0.00023011524948540014, -3.796427792778119e-06, 0.0005128149053295053, -8.996452760680253e-05, 0.0003781739549700838, 2.700797252917341e-06, 0.00018841814780127695, -9.92708673752318e-05, -0.0003695332188104177, 9.320878434805526e-05, 4.414946644283255e-06, 0.0003736595652354567, -8.318276454924575e-05, 0.00045902502587896916, 0.0002223028152466125, 0.00039245663437186863, 4.379804429832895e-05, -1.943898990673827e-05, -0.00024006243279708125, -0.00042214837296839685, 2.036506455635207e-05, -5.294515606734263e-05, 0.00031466063134677697, 4.187440018580237e-05, -0.0001710469042973481, -0.0003855644944491341, 0.00023728780294969033, 0.0002450572902023668, -6.784330158324421e-05, -9.144894396248895e-05, 3.152893106360736e-05, 0.000253182399776519, 0.00012963949564439615, -0.0002678088144075436, 0.0003970106119764536, -0.00044092022456213324, -0.0004520186942966126, 0.00017200568829064825, -0.00020750817024013223, 9.316561803099756e-05, 0.0003788088113531136, -0.00022915681584472804, 5.2682920286139905e-05, 0.00028503430015478165, 0.00015607011055149495, 0.0006042187355325928, 9.4835966439691e-05, -0.00028478237356211345, 0.00010823677348834569, 0.000177932117157839, -0.00028104172246936916, -0.0002070802428857671, -0.0004769593847928416, 0.00028986618073653626, 0.0002450586137702762, -0.0001039116990038447, 4.7511483752641324e-05, -0.00022408291184739752, -0.0001500248796707489, -1.2921323425828322e-05, -6.247555902752413e-05, -7.12516997867993e-05, 0.00028463611351040117, -0.0002679664425464436, 0.000122588854374283, 0.00037346995087008013, -0.00039133826628157727, 0.00028774287096997335, 7.799083222636855e-05, 2.9044032330572452e-05, -6.102296181019311e-05, 0.00013516537181665778, 9.357470379695227e-05, 0.00024580022461522574, 0.00018984559380193504, 0.00024494628049231103, 2.0342733010919774e-05, -0.00038277103237769076, -0.00014213107093156117, -0.00017706875929917893, 0.0006213313966895342, 0.0002706254439405432, 0.00016600828486576914, 5.747501831097771e-05, -0.00044082780044031253, 6.058531745189305e-06, -0.00046867844966774004, 4.707488665794328e-05, -9.63056581624027e-05, -0.00015766425009158293, 0.00020277730059920125, 0.0005093688880708821, -0.000237336868742277, -0.0001332669011405033, 0.0005291587980206713, 0.00034514331500395436, -0.00036725384451189065, 0.00047559095697472485, -0.0002020662016022001, -2.1886386449657905e-05, 3.194417761463947e-05, -0.00045307867156295194, 0.00024712143933526727, 0.00022602393299818446, 8.169880618375891e-06, 0.0004579796902114276, 1.8974060237557724e-05, 0.0002839002294215344, -0.00014152928943474662, 0.0005830039110545759, -6.526084351404261e-05, 0.00020100504934595503, -0.000545330695230968, 0.0002755619167766933, 9.743747644529784e-05, -0.0002540469520087063, 0.00034278827878822266, -0.0003694736572085371, 2.919567507230652e-05, -0.00010550331708029633, 2.9087416062174853e-05, -0.0002294823196679356, 5.4295334104111775e-05, 8.134947715683703e-05, 0.0004276442295946094, -0.0007348251106830089, -0.000527702571235529, 0.00024141504648633218, -4.734131523323991e-05, 0.00023492317884343849, 0.0003622373537925719, 7.459687962714468e-05, 0.0001906822131384836, -0.00010554148328550554, 7.481803002527387e-05, -0.0004938046266831468, 1.1041271756386754e-05, 9.514853859498304e-05, 0.00014506036314611878, 0.0001146593472197456, -1.4650450763571926e-05, 2.0643312317214935e-05, 0.00010607214175357114, 0.0008294845516082418, 0.0003076653956543651, 0.00020972117473698482, 0.00013627838696702796, -6.581418934967567e-05, -7.651517757794636e-05, -0.00021974378376416089, -0.00012776931861289802, 0.00012505216920479607, 9.381742655691604e-05, -0.0002032506328799135, 0.0003976090986507379, -4.128004843851219e-05, 3.563509777360953e-05, 0.00011820418339919883, -5.24924452566934e-05, 0.00013603260692933623, 0.00014047846242791658, 0.00033296482765466685, -0.00012552136330140715, -0.0002050404947751775, -4.010782864933464e-05, 0.00020588380240395819, 0.0001872363169630421, 0.0005975098077206312, -0.0003634826739690449, -5.0975508119945404e-05, -9.754515761533473e-05, 3.692181486744791e-05, 0.00039176983060290604, 0.00029382088305949985, 9.148884787610074e-05, 0.00030848398217038844, 0.0003237238149517313, 0.0001050321516172111, 0.0001567081189211263, -3.4878320771487836e-05, -1.985248651274014e-05, 1.1712226740357595e-05, -0.00017499972677502873, -0.00017855681559630302, 0.0002489274625514917, 0.0003866005821624918, 0.0001840760563122715, 9.911378010395763e-05, 4.640254256702632e-05, 0.0003677075524394875, 2.1410318718107814e-05, -0.00027027232385771257, -0.0002528942490306023, 0.00032289732345496544, 5.9286028999548396e-05, -0.00033472383988169055, -7.654459895221032e-05, 0.00023455670101801785, 0.00021427205414750738, 7.684085581601078e-05, -2.1818669895221597e-05, -0.0005211192298554441, -0.00027640983406592703, -0.00039461196387450236, 0.000377308565157994, -0.0003390929363956933, -0.00010165836181355451, -3.696877043557652e-05, 0.0003276885741403976, 0.00017541872243794442, -0.0003337174821935688, -0.0004342581025290262, -8.654693336019583e-05, -0.00031237944953676306, -0.0002965453398704231, 0.00042647109019446853, -2.149420028593925e-05]\n"
          ]
        }
      ]
    },
    {
      "cell_type": "code",
      "source": [
        "# # Define the filename to store the data\n",
        "# filename = 'emb_list.txt'\n",
        "\n",
        "# # Open the file for writing\n",
        "# with open(filename, 'w') as f:\n",
        "#     # Write the contents of emb_list to the file\n",
        "#     for key, value in emb_list.items():\n",
        "#         f.write(f\"{key}: {value}\\n\")\n"
      ],
      "metadata": {
        "id": "uSHVSwp6Jh2i"
      },
      "execution_count": 20,
      "outputs": []
    }
  ]
}