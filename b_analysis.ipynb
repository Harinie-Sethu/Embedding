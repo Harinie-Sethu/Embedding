{
  "nbformat": 4,
  "nbformat_minor": 0,
  "metadata": {
    "colab": {
      "provenance": []
    },
    "kernelspec": {
      "name": "python3",
      "display_name": "Python 3"
    },
    "language_info": {
      "name": "python"
    }
  },
  "cells": [
    {
      "cell_type": "markdown",
      "source": [
        "## **Analysis of word2vec with cbow embeddings**"
      ],
      "metadata": {
        "id": "kJs9ROrkKHDI"
      }
    },
    {
      "cell_type": "code",
      "execution_count": 1,
      "metadata": {
        "id": "IbhzRPg_JlQo"
      },
      "outputs": [],
      "source": [
        "import numpy as np\n",
        "import matplotlib.pyplot as plt\n",
        "from sklearn.manifold import TSNE\n",
        "from google.colab import drive"
      ]
    },
    {
      "cell_type": "code",
      "source": [
        "# Mount Google Drive\n",
        "drive.mount('/content/drive')\n",
        "\n",
        "# Define the path to the emb_list.txt file in Google Drive\n",
        "filename = '/content/drive/MyDrive/cbow.txt'\n"
      ],
      "metadata": {
        "colab": {
          "base_uri": "https://localhost:8080/"
        },
        "id": "_DB4im1oKipj",
        "outputId": "e941ca26-efdd-4efd-f416-65a1aca78ed5"
      },
      "execution_count": 13,
      "outputs": [
        {
          "output_type": "stream",
          "name": "stdout",
          "text": [
            "Drive already mounted at /content/drive; to attempt to forcibly remount, call drive.mount(\"/content/drive\", force_remount=True).\n"
          ]
        }
      ]
    },
    {
      "cell_type": "markdown",
      "source": [
        "# Top-10 word vectors"
      ],
      "metadata": {
        "id": "yJG_bZcMKR5C"
      }
    },
    {
      "cell_type": "code",
      "source": [
        "# Read the first 1000 lines of the file\n",
        "with open(filename, 'r') as f:\n",
        "  lines = [line.rstrip() for line in f.readlines()[5:100]]\n"
      ],
      "metadata": {
        "id": "sXFieP_XKgI3"
      },
      "execution_count": 17,
      "outputs": []
    },
    {
      "cell_type": "code",
      "source": [
        "# Parse the lines to extract words and vectors\n",
        "word_list = []\n",
        "vector_list = []\n",
        "for line in lines:\n",
        "  word, vector = line.split(': ')\n",
        "  word_list.append(word)\n",
        "  vector = np.array(vector.strip('[]').split(', '), dtype=float)\n",
        "  vector_list.append(vector)\n"
      ],
      "metadata": {
        "id": "tdXjlFp1Klzi"
      },
      "execution_count": 18,
      "outputs": []
    },
    {
      "cell_type": "code",
      "source": [
        "# Convert the vectors list to a numpy array\n",
        "vectors = np.array(vector_list)\n",
        "\n",
        "# Reduce dimensionality using t-SNE\n",
        "tsne = TSNE(n_components=2, random_state=0)\n",
        "vectors_tsne = tsne.fit_transform(vectors)\n"
      ],
      "metadata": {
        "id": "8E--AXMLKnhH"
      },
      "execution_count": 19,
      "outputs": []
    },
    {
      "cell_type": "code",
      "source": [
        "words_to_plot = ['pretty', 'choir', 'twist', 'looking', 'fan']\n",
        "top_n = 10\n",
        "fig, ax = plt.subplots(figsize=(10, 10))\n",
        "for i, word in enumerate(word_list):\n",
        "  if word in words_to_plot:\n",
        "    x, y = vectors_tsne[i, :]\n",
        "    ax.scatter(x, y, marker='o', color='black')\n",
        "    ax.annotate(word, xy=(x, y), fontsize=12)\n",
        "    if np.sum(np.abs(vectors[i])) > 0 and word not in words_to_plot:\n",
        "      dist = np.dot(vectors[i], vectors[words_to_plot].T)\n",
        "      closest_words = np.argsort(dist)[::-1][:top_n]\n",
        "      for j in closest_words:\n",
        "        x_similar, y_similar = vectors_tsne[j, :]\n",
        "        ax.plot([x, x_similar], [y, y_similar], color='gray')\n",
        "plt.show()\n"
      ],
      "metadata": {
        "colab": {
          "base_uri": "https://localhost:8080/",
          "height": 592
        },
        "id": "wAR1qzrlKpB7",
        "outputId": "6fff1c5d-f474-43fe-dde0-12355314402d"
      },
      "execution_count": 20,
      "outputs": [
        {
          "output_type": "display_data",
          "data": {
            "text/plain": [
              "<Figure size 720x720 with 1 Axes>"
            ],
            "image/png": "[encoded data removed]"
          },
          "metadata": {
            "needs_background": "light"
          }
        }
      ]
    },
    {
      "cell_type": "markdown",
      "source": [
        "# Closest words for ‘titanic’"
      ],
      "metadata": {
        "id": "ABbVXpcvKURI"
      }
    },
    {
      "cell_type": "code",
      "source": [
        "emb_list = {}\n",
        "with open('/content/drive/MyDrive/cbow.txt', 'r') as f:\n",
        "    for line in f.readlines()[5:]:\n",
        "        line = line.strip().split(': ')\n",
        "        word = line[0]\n",
        "        embedding = [float(val) for val in line[1][1:-1].split(', ')]\n",
        "        emb_list[word] = embedding\n"
      ],
      "metadata": {
        "id": "-KbPJRv5KwGp"
      },
      "execution_count": 26,
      "outputs": []
    },
    {
      "cell_type": "code",
      "source": [
        "# Find the top 10 closest words for 'titanic'\n",
        "target_word = 'water'\n",
        "target_embedding = np.array(emb_list[target_word])\n",
        "\n",
        "distances = {}\n",
        "for word, embedding in emb_list.items():\n",
        "    if word == target_word:\n",
        "        continue\n",
        "    embedding = np.array(embedding)\n",
        "    distance = np.linalg.norm(target_embedding - embedding)\n",
        "    distances[word] = distance\n",
        "\n",
        "# Sort the distances dictionary by value\n",
        "sorted_distances = sorted(distances.items(), key=lambda x: x[1])\n",
        "\n",
        "# Print the top 10 closest words\n",
        "for i in range(10):\n",
        "    print(sorted_distances[i])"
      ],
      "metadata": {
        "colab": {
          "base_uri": "https://localhost:8080/"
        },
        "id": "U2_LQTt1Kyqn",
        "outputId": "c71ecd04-8518-4232-fb38-37b703770507"
      },
      "execution_count": 27,
      "outputs": [
        {
          "output_type": "stream",
          "name": "stdout",
          "text": [
            "('just', 11.204866016307898)\n",
            "('thing', 11.284754006438193)\n",
            "('while', 11.71006587755108)\n",
            "('yes', 11.770216015894743)\n",
            "('homecoming', 11.830063127080859)\n",
            "('birth', 11.914217687137558)\n",
            "('stellar', 11.928625620232646)\n",
            "('impact', 11.993671055835865)\n",
            "('sunday', 11.994552914608082)\n",
            "('grandchildren', 12.006652372125028)\n"
          ]
        }
      ]
    },
    {
      "cell_type": "markdown",
      "source": [
        "# Closest words for 'titanic' in pre-trained word2vec embeddings "
      ],
      "metadata": {
        "id": "3F_OV9QHKW7a"
      }
    },
    {
      "cell_type": "code",
      "source": [
        "# Import the gensim library and download the pre-trained word2vec model\n",
        "import gensim.downloader as api\n",
        "model = api.load(\"word2vec-google-news-300\")\n"
      ],
      "metadata": {
        "colab": {
          "base_uri": "https://localhost:8080/"
        },
        "id": "kQ2fA0pIJuCc",
        "outputId": "d8d0d277-8f64-458c-84c8-8a6a2a392f37"
      },
      "execution_count": 2,
      "outputs": [
        {
          "output_type": "stream",
          "name": "stdout",
          "text": [
            "[==================================================] 100.0% 1662.8/1662.8MB downloaded\n"
          ]
        }
      ]
    },
    {
      "cell_type": "code",
      "source": [
        "similar_words = model.most_similar('water', topn=10)\n",
        "for word, similarity in similar_words:\n",
        "    print(word, similarity)\n"
      ],
      "metadata": {
        "colab": {
          "base_uri": "https://localhost:8080/"
        },
        "id": "xLheFuuiQY3c",
        "outputId": "a536c47f-60f7-48ba-a496-da11bc4e6888"
      },
      "execution_count": 25,
      "outputs": [
        {
          "output_type": "stream",
          "name": "stdout",
          "text": [
            "potable_water 0.6799106001853943\n",
            "Water 0.6706871390342712\n",
            "sewage 0.6619377732276917\n",
            "groundwater 0.6588346362113953\n",
            "Floridan_aquifer 0.6422534584999084\n",
            "surficial_aquifer 0.64188551902771\n",
            "freshwater 0.6307883262634277\n",
            "potable 0.6251927614212036\n",
            "wastewater 0.6212229132652283\n",
            "brackish_groundwater 0.6206730604171753\n"
          ]
        }
      ]
    }
  ]
}