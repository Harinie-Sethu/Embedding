{
  "cells": [
    {
      "cell_type": "markdown",
      "metadata": {
        "id": "95uSLgTGHPH0"
      },
      "source": [
        "## **Analysis of SVD embeddings**"
      ]
    },
    {
      "cell_type": "code",
      "execution_count": 1,
      "metadata": {
        "id": "Y7SMTzrZBDZw"
      },
      "outputs": [],
      "source": [
        "import numpy as np\n",
        "import matplotlib.pyplot as plt\n",
        "from sklearn.manifold import TSNE\n",
        "from google.colab import drive"
      ]
    },
    {
      "cell_type": "code",
      "execution_count": 2,
      "metadata": {
        "colab": {
          "base_uri": "https://localhost:8080/"
        },
        "id": "urfieEwPBkUY",
        "outputId": "88bf76fb-5132-4304-dad6-8db0bd9b9569"
      },
      "outputs": [
        {
          "name": "stdout",
          "output_type": "stream",
          "text": [
            "Mounted at /content/drive\n"
          ]
        }
      ],
      "source": [
        "# Mount Google Drive\n",
        "drive.mount('/content/drive')\n",
        "\n",
        "# Define the path to the emb_list.txt file in Google Drive\n",
        "filename = '/content/drive/MyDrive/emb_list.txt'\n"
      ]
    },
    {
      "cell_type": "markdown",
      "metadata": {
        "id": "0FSXsD0iHYNS"
      },
      "source": [
        "# Top-10 word vectors"
      ]
    },
    {
      "cell_type": "code",
      "execution_count": 9,
      "metadata": {
        "id": "ZRxYhlfBB2Ow"
      },
      "outputs": [],
      "source": [
        "# Read the first 1000 lines of the file\n",
        "with open(filename, 'r') as f:\n",
        "  lines = [line.rstrip() for line in f.readlines()[:100]]\n"
      ]
    },
    {
      "cell_type": "code",
      "execution_count": 10,
      "metadata": {
        "id": "IoeybdQxB_G3"
      },
      "outputs": [],
      "source": [
        "# Parse the lines to extract words and vectors\n",
        "word_list = []\n",
        "vector_list = []\n",
        "for line in lines:\n",
        "  word, vector = line.split(': ')\n",
        "  word_list.append(word)\n",
        "  vector = np.array(vector.strip('[]').split(', '), dtype=float)\n",
        "  vector_list.append(vector)\n"
      ]
    },
    {
      "cell_type": "code",
      "execution_count": 11,
      "metadata": {
        "id": "cfPA8isXCPd0"
      },
      "outputs": [],
      "source": [
        "# Convert the vectors list to a numpy array\n",
        "vectors = np.array(vector_list)\n",
        "\n",
        "# Reduce dimensionality using t-SNE\n",
        "tsne = TSNE(n_components=2, random_state=0)\n",
        "vectors_tsne = tsne.fit_transform(vectors)\n"
      ]
    },
    {
      "cell_type": "code",
      "execution_count": 12,
      "metadata": {
        "colab": {
          "base_uri": "https://localhost:8080/",
          "height": 592
        },
        "id": "FvjgBZqdCUDl",
        "outputId": "3b265a64-0501-4494-abce-1e658c64191f"
      },
      "outputs": [
        {
          "data": {
            "image/png": "[encoded data removed]",
            "text/plain": [
              "<Figure size 720x720 with 1 Axes>"
            ]
          },
          "metadata": {
            "needs_background": "light"
          },
          "output_type": "display_data"
        }
      ],
      "source": [
        "words_to_plot = ['beans', 'stops', 'dissapointed', 'cheese', 'strange']\n",
        "top_n = 10\n",
        "fig, ax = plt.subplots(figsize=(10, 10))\n",
        "for i, word in enumerate(word_list):\n",
        "  if word in words_to_plot:\n",
        "    x, y = vectors_tsne[i, :]\n",
        "    ax.scatter(x, y, marker='o', color='black')\n",
        "    ax.annotate(word, xy=(x, y), fontsize=12)\n",
        "    if np.sum(np.abs(vectors[i])) > 0 and word not in words_to_plot:\n",
        "      dist = np.dot(vectors[i], vectors[words_to_plot].T)\n",
        "      closest_words = np.argsort(dist)[::-1][:top_n]\n",
        "      for j in closest_words:\n",
        "        x_similar, y_similar = vectors_tsne[j, :]\n",
        "        ax.plot([x, x_similar], [y, y_similar], color='gray')\n",
        "plt.show()\n"
      ]
    },
    {
      "cell_type": "markdown",
      "metadata": {
        "id": "D1jLBvhXHnnz"
      },
      "source": [
        "# Closest words for ‘titanic’"
      ]
    },
    {
      "cell_type": "code",
      "execution_count": 13,
      "metadata": {
        "id": "bECiWO4RDPKB"
      },
      "outputs": [],
      "source": [
        "emb_list = {}\n",
        "with open('/content/drive/MyDrive/emb_list.txt', 'r') as f:\n",
        "    for line in f.readlines():\n",
        "        line = line.strip().split(': ')\n",
        "        word = line[0]\n",
        "        embedding = [float(val) for val in line[1][1:-1].split(', ')]\n",
        "        emb_list[word] = embedding\n"
      ]
    },
    {
      "cell_type": "code",
      "execution_count": 15,
      "metadata": {
        "colab": {
          "base_uri": "https://localhost:8080/"
        },
        "id": "i0K1R8bHDowa",
        "outputId": "494f7572-a77c-4e21-c56e-667b83d8c1b8"
      },
      "outputs": [
        {
          "name": "stdout",
          "output_type": "stream",
          "text": [
            "('iceni', 0.03196894623687502)\n",
            "('whore', 0.03294454577612742)\n",
            "('angst', 0.033924717440678216)\n",
            "('attract', 0.034573321436051116)\n",
            "('blanket', 0.03503606164599751)\n",
            "('zech', 0.035079804828640544)\n",
            "('lauderdale', 0.03515372877729961)\n",
            "('fertility', 0.03519384007627757)\n",
            "('pile', 0.0352186783488721)\n",
            "('diaries', 0.03526002499871007)\n"
          ]
        }
      ],
      "source": [
        "# Find the top 10 closest words for 'titanic'\n",
        "target_word = 'titanic'\n",
        "target_embedding = np.array(emb_list[target_word])\n",
        "\n",
        "distances = {}\n",
        "for word, embedding in emb_list.items():\n",
        "    if word == target_word:\n",
        "        continue\n",
        "    embedding = np.array(embedding)\n",
        "    distance = np.linalg.norm(target_embedding - embedding)\n",
        "    distances[word] = distance\n",
        "\n",
        "# Sort the distances dictionary by value\n",
        "sorted_distances = sorted(distances.items(), key=lambda x: x[1])\n",
        "\n",
        "# Print the top 10 closest words\n",
        "for i in range(10):\n",
        "    print(sorted_distances[i])\n",
        "\n",
        "\n"
      ]
    },
    {
      "cell_type": "markdown",
      "metadata": {
        "id": "MM-CdOsiHyv_"
      },
      "source": [
        "# Closest words for 'titanic' in pre-trained word2vec embeddings "
      ]
    },
    {
      "cell_type": "code",
      "execution_count": 1,
      "metadata": {
        "colab": {
          "base_uri": "https://localhost:8080/"
        },
        "id": "3DFOkzimEGno",
        "outputId": "983b9194-509d-4d9c-a464-1efe7cd6aacd"
      },
      "outputs": [
        {
          "name": "stdout",
          "output_type": "stream",
          "text": [
            "[=================================================-] 100.0% 1662.0/1662.8MB downloaded\n"
          ]
        }
      ],
      "source": [
        "# Import the gensim library and download the pre-trained word2vec model\n",
        "import gensim.downloader as api\n",
        "model = api.load(\"word2vec-google-news-300\")\n"
      ]
    },
    {
      "cell_type": "code",
      "execution_count": 2,
      "metadata": {
        "colab": {
          "base_uri": "https://localhost:8080/"
        },
        "id": "e9ibU5fpEkA0",
        "outputId": "952be0d0-202b-4f00-c2a5-175dd4178752"
      },
      "outputs": [
        {
          "name": "stdout",
          "output_type": "stream",
          "text": [
            "epic 0.600616455078125\n",
            "colossal 0.5896502137184143\n",
            "gargantuan 0.5718227028846741\n",
            "titanic_proportions 0.5610266923904419\n",
            "titantic 0.5592556595802307\n",
            "monumental 0.5530510544776917\n",
            "monstrous 0.5457675457000732\n",
            "epic_proportions 0.5437003970146179\n",
            "gigantic 0.5176911950111389\n",
            "mighty 0.5088781118392944\n"
          ]
        }
      ],
      "source": [
        "similar_words = model.most_similar('titanic', topn=10)\n",
        "for word, similarity in similar_words:\n",
        "    print(word, similarity)\n"
      ]
    }
  ],
  "metadata": {
    "colab": {
      "provenance": []
    },
    "kernelspec": {
      "display_name": "Python 3",
      "name": "python3"
    },
    "language_info": {
      "name": "python"
    }
  },
  "nbformat": 4,
  "nbformat_minor": 0
}
